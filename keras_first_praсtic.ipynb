{
 "cells": [
  {
   "cell_type": "markdown",
   "id": "b226a557",
   "metadata": {},
   "source": [
    "# Несколько практических задач для закрепления навыков построения нейросетей на Keras"
   ]
  },
  {
   "cell_type": "markdown",
   "id": "8035f094",
   "metadata": {},
   "source": [
    "## Задачи:\n",
    "\n",
    "1. Задача регрессии (california housing)\n",
    "2. Задача классификации (MNIST)\n",
    "3. Задача восстановления изображений"
   ]
  },
  {
   "cell_type": "markdown",
   "id": "801baa27",
   "metadata": {},
   "source": [
    "## Нейросеть для California housing"
   ]
  },
  {
   "cell_type": "markdown",
   "id": "affd4311",
   "metadata": {},
   "source": [
    "#### 1.1. загрузим набор данных `fetch_california_housing` из `sklearn`."
   ]
  },
  {
   "cell_type": "code",
   "execution_count": 29,
   "id": "64eefab8",
   "metadata": {},
   "outputs": [],
   "source": [
    "from sklearn.datasets import fetch_california_housing\n",
    "import pandas as pd\n",
    "\n",
    "\n",
    "data = fetch_california_housing()\n",
    "\n",
    "X = pd.DataFrame(data['data'], columns=data['feature_names'])\n",
    "y = data['target']"
   ]
  },
  {
   "cell_type": "code",
   "execution_count": 30,
   "id": "01a96235",
   "metadata": {},
   "outputs": [
    {
     "name": "stdout",
     "output_type": "stream",
     "text": [
      "<class 'pandas.core.frame.DataFrame'>\n",
      "RangeIndex: 20640 entries, 0 to 20639\n",
      "Data columns (total 8 columns):\n",
      " #   Column      Non-Null Count  Dtype  \n",
      "---  ------      --------------  -----  \n",
      " 0   MedInc      20640 non-null  float64\n",
      " 1   HouseAge    20640 non-null  float64\n",
      " 2   AveRooms    20640 non-null  float64\n",
      " 3   AveBedrms   20640 non-null  float64\n",
      " 4   Population  20640 non-null  float64\n",
      " 5   AveOccup    20640 non-null  float64\n",
      " 6   Latitude    20640 non-null  float64\n",
      " 7   Longitude   20640 non-null  float64\n",
      "dtypes: float64(8)\n",
      "memory usage: 1.3 MB\n"
     ]
    }
   ],
   "source": [
    "X.info()"
   ]
  },
  {
   "cell_type": "code",
   "execution_count": 31,
   "id": "02d65f7f",
   "metadata": {},
   "outputs": [
    {
     "data": {
      "text/html": [
       "<div>\n",
       "<style scoped>\n",
       "    .dataframe tbody tr th:only-of-type {\n",
       "        vertical-align: middle;\n",
       "    }\n",
       "\n",
       "    .dataframe tbody tr th {\n",
       "        vertical-align: top;\n",
       "    }\n",
       "\n",
       "    .dataframe thead th {\n",
       "        text-align: right;\n",
       "    }\n",
       "</style>\n",
       "<table border=\"1\" class=\"dataframe\">\n",
       "  <thead>\n",
       "    <tr style=\"text-align: right;\">\n",
       "      <th></th>\n",
       "      <th>MedInc</th>\n",
       "      <th>HouseAge</th>\n",
       "      <th>AveRooms</th>\n",
       "      <th>AveBedrms</th>\n",
       "      <th>Population</th>\n",
       "      <th>AveOccup</th>\n",
       "      <th>Latitude</th>\n",
       "      <th>Longitude</th>\n",
       "    </tr>\n",
       "  </thead>\n",
       "  <tbody>\n",
       "    <tr>\n",
       "      <th>0</th>\n",
       "      <td>8.3252</td>\n",
       "      <td>41.0</td>\n",
       "      <td>6.984127</td>\n",
       "      <td>1.023810</td>\n",
       "      <td>322.0</td>\n",
       "      <td>2.555556</td>\n",
       "      <td>37.88</td>\n",
       "      <td>-122.23</td>\n",
       "    </tr>\n",
       "    <tr>\n",
       "      <th>1</th>\n",
       "      <td>8.3014</td>\n",
       "      <td>21.0</td>\n",
       "      <td>6.238137</td>\n",
       "      <td>0.971880</td>\n",
       "      <td>2401.0</td>\n",
       "      <td>2.109842</td>\n",
       "      <td>37.86</td>\n",
       "      <td>-122.22</td>\n",
       "    </tr>\n",
       "    <tr>\n",
       "      <th>2</th>\n",
       "      <td>7.2574</td>\n",
       "      <td>52.0</td>\n",
       "      <td>8.288136</td>\n",
       "      <td>1.073446</td>\n",
       "      <td>496.0</td>\n",
       "      <td>2.802260</td>\n",
       "      <td>37.85</td>\n",
       "      <td>-122.24</td>\n",
       "    </tr>\n",
       "    <tr>\n",
       "      <th>3</th>\n",
       "      <td>5.6431</td>\n",
       "      <td>52.0</td>\n",
       "      <td>5.817352</td>\n",
       "      <td>1.073059</td>\n",
       "      <td>558.0</td>\n",
       "      <td>2.547945</td>\n",
       "      <td>37.85</td>\n",
       "      <td>-122.25</td>\n",
       "    </tr>\n",
       "    <tr>\n",
       "      <th>4</th>\n",
       "      <td>3.8462</td>\n",
       "      <td>52.0</td>\n",
       "      <td>6.281853</td>\n",
       "      <td>1.081081</td>\n",
       "      <td>565.0</td>\n",
       "      <td>2.181467</td>\n",
       "      <td>37.85</td>\n",
       "      <td>-122.25</td>\n",
       "    </tr>\n",
       "  </tbody>\n",
       "</table>\n",
       "</div>"
      ],
      "text/plain": [
       "   MedInc  HouseAge  AveRooms  AveBedrms  Population  AveOccup  Latitude  \\\n",
       "0  8.3252      41.0  6.984127   1.023810       322.0  2.555556     37.88   \n",
       "1  8.3014      21.0  6.238137   0.971880      2401.0  2.109842     37.86   \n",
       "2  7.2574      52.0  8.288136   1.073446       496.0  2.802260     37.85   \n",
       "3  5.6431      52.0  5.817352   1.073059       558.0  2.547945     37.85   \n",
       "4  3.8462      52.0  6.281853   1.081081       565.0  2.181467     37.85   \n",
       "\n",
       "   Longitude  \n",
       "0    -122.23  \n",
       "1    -122.22  \n",
       "2    -122.24  \n",
       "3    -122.25  \n",
       "4    -122.25  "
      ]
     },
     "execution_count": 31,
     "metadata": {},
     "output_type": "execute_result"
    }
   ],
   "source": [
    "X.head()"
   ]
  },
  {
   "cell_type": "code",
   "execution_count": 32,
   "id": "f7b2c7c2",
   "metadata": {},
   "outputs": [
    {
     "data": {
      "text/plain": [
       "array([4.526, 3.585, 3.521, ..., 0.923, 0.847, 0.894])"
      ]
     },
     "execution_count": 32,
     "metadata": {},
     "output_type": "execute_result"
    }
   ],
   "source": [
    "y"
   ]
  },
  {
   "cell_type": "markdown",
   "id": "85ccfdb6",
   "metadata": {},
   "source": [
    "#### 1.2. Разобъём данные на выборки для обучения и теста"
   ]
  },
  {
   "cell_type": "code",
   "execution_count": 33,
   "id": "d08aab13",
   "metadata": {},
   "outputs": [
    {
     "data": {
      "text/plain": [
       "((16512, 8), (16512,), (4128, 8), (4128,))"
      ]
     },
     "execution_count": 33,
     "metadata": {},
     "output_type": "execute_result"
    }
   ],
   "source": [
    "from sklearn.model_selection import train_test_split\n",
    "\n",
    "X_train, X_test, y_train,  y_test = train_test_split(X.values,y,test_size=0.2, random_state=10)\n",
    "X_train.shape,  y_train.shape,X_test.shape,  y_test.shape"
   ]
  },
  {
   "cell_type": "markdown",
   "id": "1d12cbbb",
   "metadata": {},
   "source": [
    "#### 1.3. Создим архитектуру для этой задачи"
   ]
  },
  {
   "cell_type": "markdown",
   "id": "4121c840",
   "metadata": {},
   "source": [
    "сделаем сеть из двух слоев для быстрого обучения.\n",
    "\n",
    "У первого слоя 8 входов по количеству признаков.\n",
    "\n",
    "В результате нужно одно число - в последнем слое оставим один нейрон в котором будут \"суммироваться\" веса"
   ]
  },
  {
   "cell_type": "code",
   "execution_count": 34,
   "id": "bd7ae6f7",
   "metadata": {},
   "outputs": [
    {
     "name": "stdout",
     "output_type": "stream",
     "text": [
      "Model: \"sequential_7\"\n",
      "_________________________________________________________________\n",
      " Layer (type)                Output Shape              Param #   \n",
      "=================================================================\n",
      " dense_19 (Dense)            (None, 16)                144       \n",
      "                                                                 \n",
      " dense_20 (Dense)            (None, 1)                 17        \n",
      "                                                                 \n",
      "=================================================================\n",
      "Total params: 161\n",
      "Trainable params: 161\n",
      "Non-trainable params: 0\n",
      "_________________________________________________________________\n"
     ]
    }
   ],
   "source": [
    "from keras.layers import Dense \n",
    "from keras.models import Sequential\n",
    "import tensorflow as tf\n",
    "tf.random.set_seed(10)\n",
    "\n",
    "model = Sequential([\n",
    "        Dense(units=16, input_shape=(8,) , activation='relu'),\n",
    "        #Dense(units=2, input_shape=(4,) , activation='relu'),\n",
    "        Dense(units=1,  activation='relu')\n",
    "        ])\n",
    "model.summary()"
   ]
  },
  {
   "cell_type": "markdown",
   "id": "d2bdd4b9",
   "metadata": {},
   "source": [
    "#### 1.4. Скомпилируем сеть"
   ]
  },
  {
   "cell_type": "markdown",
   "id": "cc120da2",
   "metadata": {},
   "source": [
    "Для задачи регресси возмем функцию потерь mse и метрику mae.  \n",
    "\n",
    "Вопользуемся оптимизатором - стахостичемским градиентным спуском"
   ]
  },
  {
   "cell_type": "code",
   "execution_count": 35,
   "id": "47694276",
   "metadata": {},
   "outputs": [],
   "source": [
    "model.compile(optimizer='sgd', loss='mse', metrics='mae')"
   ]
  },
  {
   "cell_type": "markdown",
   "id": "5e0351ec",
   "metadata": {},
   "source": [
    "#### 1.5. Обучим нейросеть"
   ]
  },
  {
   "cell_type": "code",
   "execution_count": 36,
   "id": "8a19fc32",
   "metadata": {},
   "outputs": [
    {
     "name": "stdout",
     "output_type": "stream",
     "text": [
      "Epoch 1/5\n",
      "5/5 [==============================] - 0s 3ms/step - loss: 10.2644 - mae: 2.1886\n",
      "Epoch 2/5\n",
      "5/5 [==============================] - 0s 46ms/step - loss: 5.5723 - mae: 2.0622 - val_loss: 5.6388 - val_mae: 2.0740\n",
      "Epoch 3/5\n",
      "5/5 [==============================] - 0s 1ms/step - loss: 5.5723 - mae: 2.0622\n",
      "Epoch 4/5\n",
      "5/5 [==============================] - 0s 24ms/step - loss: 5.5723 - mae: 2.0622 - val_loss: 5.6388 - val_mae: 2.0740\n",
      "Epoch 5/5\n",
      "5/5 [==============================] - 0s 2ms/step - loss: 5.5723 - mae: 2.0622\n",
      "Wall time: 586 ms\n"
     ]
    },
    {
     "data": {
      "text/plain": [
       "<keras.callbacks.History at 0x1898a1b3df0>"
      ]
     },
     "execution_count": 36,
     "metadata": {},
     "output_type": "execute_result"
    }
   ],
   "source": [
    "%%time\n",
    "\n",
    "model.fit(X_train,\n",
    "          y_train, \n",
    "          epochs=5,\n",
    "         # batch_size=64,       # Количество сэмплов за один шаг градиентного спуска\n",
    "          steps_per_epoch=5,   # Общее количество шагов (батчей сэмплов) на одной эпохе.\n",
    "                               # по умолчанию равняется количеству сэмплов в датасете деленное на batch size\n",
    "          validation_split=0.2, # Доля обучающих данных, которая будет использоваться как валидационная часть \n",
    "        # validation_data=(X_test, y_test), #  Данные, на которых считается функция потерь и метрики в конце каждой эпохи\n",
    "        # validation_batch_size=X_test.shape[0]  #  Количество сэмплов в один валидационный батч\n",
    "          validation_freq=2  # столько эпох с обучением пройдет, до одной валидации\n",
    "         )"
   ]
  },
  {
   "cell_type": "markdown",
   "id": "6c10ecb8",
   "metadata": {},
   "source": [
    "Сеть обучается плохо, так как данные не масштабированы."
   ]
  },
  {
   "cell_type": "markdown",
   "id": "eaba96ab",
   "metadata": {},
   "source": [
    "#### 1.6. Отмасштабируем даные"
   ]
  },
  {
   "cell_type": "code",
   "execution_count": 40,
   "id": "b65e2771",
   "metadata": {},
   "outputs": [
    {
     "name": "stdout",
     "output_type": "stream",
     "text": [
      "Epoch 1/10\n",
      "10/10 [==============================] - 0s 25ms/step - loss: 5.4805 - mae: 2.0415 - val_loss: 4.7279 - val_mae: 1.8522\n",
      "Epoch 2/10\n",
      "10/10 [==============================] - 0s 11ms/step - loss: 3.3284 - mae: 1.4252 - val_loss: 2.2014 - val_mae: 1.0661\n",
      "Epoch 3/10\n",
      "10/10 [==============================] - 0s 10ms/step - loss: 1.7670 - mae: 0.9576 - val_loss: 1.4929 - val_mae: 0.8976\n",
      "Epoch 4/10\n",
      "10/10 [==============================] - 0s 12ms/step - loss: 1.4183 - mae: 0.9043 - val_loss: 1.3758 - val_mae: 0.8968\n",
      "Epoch 5/10\n",
      "10/10 [==============================] - 0s 11ms/step - loss: 1.3430 - mae: 0.8985 - val_loss: 1.3170 - val_mae: 0.8852\n",
      "Epoch 6/10\n",
      "10/10 [==============================] - 0s 10ms/step - loss: 1.2936 - mae: 0.8859 - val_loss: 1.2762 - val_mae: 0.8746\n",
      "Epoch 7/10\n",
      "10/10 [==============================] - 0s 12ms/step - loss: 1.2569 - mae: 0.8752 - val_loss: 1.2413 - val_mae: 0.8638\n",
      "Epoch 8/10\n",
      "10/10 [==============================] - 0s 14ms/step - loss: 1.2235 - mae: 0.8648 - val_loss: 1.2108 - val_mae: 0.8532\n",
      "Epoch 9/10\n",
      "10/10 [==============================] - 0s 12ms/step - loss: 1.1930 - mae: 0.8537 - val_loss: 1.1807 - val_mae: 0.8444\n",
      "Epoch 10/10\n",
      "10/10 [==============================] - 0s 11ms/step - loss: 1.1628 - mae: 0.8443 - val_loss: 1.1516 - val_mae: 0.8328\n"
     ]
    }
   ],
   "source": [
    "from sklearn.preprocessing import MinMaxScaler\n",
    "\n",
    "mms = MinMaxScaler()\n",
    "\n",
    "X_train_n = mms.fit_transform(X_train)\n",
    "X_test_n = mms.transform(X_test)\n",
    "\n",
    "model = Sequential([\n",
    "                  Dense(units=16, input_shape=(8,), activation='relu'),\n",
    "                  Dense(units=12,  activation='relu'),\n",
    "                  Dense(units=1, activation='relu')\n",
    "])\n",
    "\n",
    "model.compile(optimizer='sgd', loss='mse', metrics='mae')\n",
    "\n",
    "# для будущей визулизации залогируем все измерения в объект history\n",
    "history = model.fit(X_train_n, \n",
    "                    y_train, \n",
    "                    epochs=10,\n",
    "                    #batch_size=64,\n",
    "                    steps_per_epoch=10,\n",
    "                    validation_split=0.2,\n",
    "                    #validation_freq=2\n",
    "                   )"
   ]
  },
  {
   "cell_type": "code",
   "execution_count": 41,
   "id": "da8a765f",
   "metadata": {},
   "outputs": [
    {
     "data": {
      "image/png": "[encoded data removed]",
      "text/plain": [
       "<Figure size 432x288 with 1 Axes>"
      ]
     },
     "metadata": {
      "needs_background": "light"
     },
     "output_type": "display_data"
    }
   ],
   "source": [
    "import matplotlib.pyplot as plt\n",
    "\n",
    "plt.plot(history.history['loss'], label='train loss')\n",
    "plt.plot(history.history['val_loss'], label='test loss')\n",
    "plt.legend();"
   ]
  },
  {
   "cell_type": "code",
   "execution_count": 42,
   "id": "1793ac15",
   "metadata": {},
   "outputs": [
    {
     "data": {
      "image/png": "[encoded data removed]",
      "text/plain": [
       "<Figure size 432x288 with 1 Axes>"
      ]
     },
     "metadata": {
      "needs_background": "light"
     },
     "output_type": "display_data"
    }
   ],
   "source": [
    "plt.plot(history.history['mae'], label='train mae')\n",
    "plt.plot(history.history['val_mae'], label='test mae')\n",
    "plt.legend();"
   ]
  },
  {
   "cell_type": "markdown",
   "id": "3b1a6c50",
   "metadata": {},
   "source": [
    "как видим из графика - можно было обойтись меньшим количеством эпох так как с 4й эпохи значение ошибки изменяется не существенно"
   ]
  },
  {
   "cell_type": "markdown",
   "id": "ad5216d9",
   "metadata": {},
   "source": [
    "#### 1.7. Сделаем предсказания на тестовых данных"
   ]
  },
  {
   "cell_type": "code",
   "execution_count": 23,
   "id": "21af5987",
   "metadata": {},
   "outputs": [
    {
     "name": "stdout",
     "output_type": "stream",
     "text": [
      "129/129 [==============================] - 0s 915us/step\n"
     ]
    }
   ],
   "source": [
    "pred = model.predict(X_test_n)"
   ]
  },
  {
   "cell_type": "markdown",
   "id": "64203ad5",
   "metadata": {},
   "source": [
    "#### 1.8. Посчитаем метрику качества на тестовых данных"
   ]
  },
  {
   "cell_type": "code",
   "execution_count": 51,
   "id": "0b15547a",
   "metadata": {},
   "outputs": [
    {
     "data": {
      "text/plain": [
       "(0.641, 0.485)"
      ]
     },
     "execution_count": 51,
     "metadata": {},
     "output_type": "execute_result"
    }
   ],
   "source": [
    "# в качествет метрик посмотри на r2  и среднюю абсолютную ошибку\n",
    "from sklearn.metrics import r2_score, mean_absolute_error\n",
    "\n",
    "round(r2_score(y_test, pred),3),  round(mean_absolute_error(y_test, pred),3)"
   ]
  },
  {
   "cell_type": "code",
   "execution_count": 26,
   "id": "24bbd1e9",
   "metadata": {},
   "outputs": [
    {
     "data": {
      "text/html": [
       "<div>\n",
       "<style scoped>\n",
       "    .dataframe tbody tr th:only-of-type {\n",
       "        vertical-align: middle;\n",
       "    }\n",
       "\n",
       "    .dataframe tbody tr th {\n",
       "        vertical-align: top;\n",
       "    }\n",
       "\n",
       "    .dataframe thead th {\n",
       "        text-align: right;\n",
       "    }\n",
       "</style>\n",
       "<table border=\"1\" class=\"dataframe\">\n",
       "  <thead>\n",
       "    <tr style=\"text-align: right;\">\n",
       "      <th></th>\n",
       "      <th>true</th>\n",
       "      <th>pred</th>\n",
       "    </tr>\n",
       "  </thead>\n",
       "  <tbody>\n",
       "    <tr>\n",
       "      <th>0</th>\n",
       "      <td>2.113</td>\n",
       "      <td>2.069714</td>\n",
       "    </tr>\n",
       "    <tr>\n",
       "      <th>1</th>\n",
       "      <td>1.387</td>\n",
       "      <td>2.639574</td>\n",
       "    </tr>\n",
       "    <tr>\n",
       "      <th>2</th>\n",
       "      <td>2.343</td>\n",
       "      <td>2.763038</td>\n",
       "    </tr>\n",
       "    <tr>\n",
       "      <th>3</th>\n",
       "      <td>3.938</td>\n",
       "      <td>3.431436</td>\n",
       "    </tr>\n",
       "    <tr>\n",
       "      <th>4</th>\n",
       "      <td>1.598</td>\n",
       "      <td>2.025799</td>\n",
       "    </tr>\n",
       "  </tbody>\n",
       "</table>\n",
       "</div>"
      ],
      "text/plain": [
       "    true      pred\n",
       "0  2.113  2.069714\n",
       "1  1.387  2.639574\n",
       "2  2.343  2.763038\n",
       "3  3.938  3.431436\n",
       "4  1.598  2.025799"
      ]
     },
     "execution_count": 26,
     "metadata": {},
     "output_type": "execute_result"
    }
   ],
   "source": [
    "# сравним предсказанные значения с реальними\n",
    "import pandas as pd\n",
    "import numpy as np\n",
    "pd.DataFrame({\n",
    "    'true': np.squeeze(y_test[100:105]),\n",
    "    'pred': np.squeeze(pred[100:105])\n",
    " })"
   ]
  },
  {
   "cell_type": "code",
   "execution_count": null,
   "id": "7d38b69d",
   "metadata": {},
   "outputs": [],
   "source": [
    "Вывод: точность далека от идеальной, скорее всего нейросети требуется больше данных для обучения."
   ]
  },
  {
   "cell_type": "markdown",
   "id": "769cca33",
   "metadata": {},
   "source": [
    "## 2. Нейросеть для MNIST"
   ]
  },
  {
   "cell_type": "markdown",
   "id": "ce508b2c",
   "metadata": {},
   "source": [
    "### 2.1. Загрузим набор данных `MNIST` из `keras` для задачи классификации рукописных цифр"
   ]
  },
  {
   "cell_type": "code",
   "execution_count": 76,
   "id": "f8489fae",
   "metadata": {},
   "outputs": [
    {
     "data": {
      "text/plain": [
       "((60000, 28, 28), (10000, 28, 28))"
      ]
     },
     "execution_count": 76,
     "metadata": {},
     "output_type": "execute_result"
    }
   ],
   "source": [
    "import matplotlib.pyplot as plt # используем для вывода изображений\n",
    "\n",
    "from keras.datasets import mnist\n",
    "from keras.utils.np_utils import to_categorical # для категорирования таргета\n",
    "\n",
    "\n",
    "(X_train, y_train), (X_test, y_test) = mnist.load_data()\n",
    "\n",
    "X_train.shape, X_test.shape"
   ]
  },
  {
   "cell_type": "markdown",
   "id": "a37997c3",
   "metadata": {},
   "source": [
    "Выведем несколько примеров из обучения"
   ]
  },
  {
   "cell_type": "code",
   "execution_count": 77,
   "id": "3a652555",
   "metadata": {},
   "outputs": [
    {
     "data": {
      "image/png": "[encoded data removed]",
      "text/plain": [
       "<Figure size 1080x720 with 7 Axes>"
      ]
     },
     "metadata": {
      "needs_background": "light"
     },
     "output_type": "display_data"
    }
   ],
   "source": [
    "fig, ax = plt.subplots(1,7,figsize=(15,10))\n",
    "for i in range(7):\n",
    "    ax[i].imshow(X_train[i], cmap='gray')\n",
    "    ax[i].axis('off')"
   ]
  },
  {
   "cell_type": "code",
   "execution_count": 78,
   "id": "a633ab44",
   "metadata": {},
   "outputs": [
    {
     "data": {
      "text/plain": [
       "1    6742\n",
       "7    6265\n",
       "3    6131\n",
       "2    5958\n",
       "9    5949\n",
       "0    5923\n",
       "6    5918\n",
       "8    5851\n",
       "4    5842\n",
       "5    5421\n",
       "dtype: int64"
      ]
     },
     "execution_count": 78,
     "metadata": {},
     "output_type": "execute_result"
    }
   ],
   "source": [
    "pd.Series(y_train).value_counts()"
   ]
  },
  {
   "cell_type": "markdown",
   "id": "275c9282",
   "metadata": {},
   "source": [
    "### 2.2. Подготовка данных"
   ]
  },
  {
   "cell_type": "markdown",
   "id": "c8ce6e36",
   "metadata": {},
   "source": [
    "#### 2.2.1. Возьмём для обучения только два класса (3 и 8), чтобы сделать задачу бинарной классификации."
   ]
  },
  {
   "cell_type": "code",
   "execution_count": 79,
   "id": "7b566263",
   "metadata": {},
   "outputs": [
    {
     "data": {
      "text/plain": [
       "((11982, 28, 28), (11982,))"
      ]
     },
     "execution_count": 79,
     "metadata": {},
     "output_type": "execute_result"
    }
   ],
   "source": [
    "idxs = np.where((y_train == 3) | (y_train == 8))\n",
    "y_train = y_train[idxs]\n",
    "X_train = X_train[idxs]\n",
    "X_train.shape ,y_train.shape"
   ]
  },
  {
   "cell_type": "markdown",
   "id": "758e2181",
   "metadata": {},
   "source": [
    "#### 2.2.2. Тоже самое сделаем для теста"
   ]
  },
  {
   "cell_type": "code",
   "execution_count": 80,
   "id": "d5196d43",
   "metadata": {},
   "outputs": [
    {
     "data": {
      "text/plain": [
       "((1984, 28, 28), (1984,))"
      ]
     },
     "execution_count": 80,
     "metadata": {},
     "output_type": "execute_result"
    }
   ],
   "source": [
    "idxs = np.where((y_test == 3) | (y_test == 8))\n",
    "y_test = y_test[idxs]\n",
    "X_test = X_test[idxs]\n",
    "X_test.shape ,y_test.shape"
   ]
  },
  {
   "cell_type": "markdown",
   "id": "215ecbbe",
   "metadata": {},
   "source": [
    "#### 2.2.3. Выведем несколько изображений из новых данных"
   ]
  },
  {
   "cell_type": "code",
   "execution_count": 81,
   "id": "7ef85839",
   "metadata": {},
   "outputs": [
    {
     "data": {
      "image/png": "[encoded data removed]",
      "text/plain": [
       "<Figure size 1080x720 with 7 Axes>"
      ]
     },
     "metadata": {
      "needs_background": "light"
     },
     "output_type": "display_data"
    }
   ],
   "source": [
    "fig, ax = plt.subplots(1,7, figsize=(15,10))\n",
    "for i in range(7):\n",
    "    ax[i].imshow(X_train[i], cmap='gray')\n",
    "    ax[i].axis('off')"
   ]
  },
  {
   "cell_type": "markdown",
   "id": "5b011618",
   "metadata": {},
   "source": [
    "#### 2.2.4. Нормируем данные"
   ]
  },
  {
   "cell_type": "code",
   "execution_count": 82,
   "id": "ffe59431",
   "metadata": {},
   "outputs": [
    {
     "name": "stdout",
     "output_type": "stream",
     "text": [
      "0.0 1.0\n"
     ]
    }
   ],
   "source": [
    "X_train = X_train / 255\n",
    "X_test = X_test / 255\n",
    "print(X_train.min(), X_train.max())"
   ]
  },
  {
   "cell_type": "markdown",
   "id": "d3759ef2",
   "metadata": {},
   "source": [
    "#### 2.2.5. Преобразуем целевые значения в бинарный вид"
   ]
  },
  {
   "cell_type": "markdown",
   "id": "f27b60ac",
   "metadata": {},
   "source": [
    "При этом еще нужно вначале перевести класс 3 и 8 в 0 и 1, только при таких метках класса сетка будет обучаться правильно."
   ]
  },
  {
   "cell_type": "code",
   "execution_count": 83,
   "id": "9d736764",
   "metadata": {},
   "outputs": [],
   "source": [
    "y_train_cat = y_train\n",
    "y_test_cat = y_test\n",
    "y_train_cat[np.where(y_train == 3)] = 0\n",
    "y_train_cat[np.where(y_train == 8)] = 1\n",
    "y_test_cat[np.where(y_test == 3)] = 0\n",
    "y_test_cat[np.where(y_test == 8)] = 1"
   ]
  },
  {
   "cell_type": "code",
   "execution_count": 84,
   "id": "a275ff51",
   "metadata": {},
   "outputs": [
    {
     "data": {
      "text/plain": [
       "array([[1., 0.],\n",
       "       [1., 0.],\n",
       "       [1., 0.],\n",
       "       [0., 1.],\n",
       "       [1., 0.]], dtype=float32)"
      ]
     },
     "execution_count": 84,
     "metadata": {},
     "output_type": "execute_result"
    }
   ],
   "source": [
    "y_train_cat = to_categorical(y_train_cat)\n",
    "y_test_cat =  to_categorical(y_test_cat)\n",
    "\n",
    "y_train_cat[:5]"
   ]
  },
  {
   "cell_type": "markdown",
   "id": "eb0cb2b6",
   "metadata": {},
   "source": [
    "#### 2.2.6. Уменьшение количества входных признаков"
   ]
  },
  {
   "cell_type": "markdown",
   "id": "a80fd4b5",
   "metadata": {},
   "source": [
    "Уменьшим размер изображений для ускорения процесса обучения нейросети"
   ]
  },
  {
   "cell_type": "code",
   "execution_count": 85,
   "id": "18fe68f0",
   "metadata": {},
   "outputs": [
    {
     "data": {
      "image/png": "[encoded data removed]",
      "text/plain": [
       "<Figure size 1080x720 with 5 Axes>"
      ]
     },
     "metadata": {
      "needs_background": "light"
     },
     "output_type": "display_data"
    }
   ],
   "source": [
    "X_train_resized = tf.image.resize(X_train[..., np.newaxis], (16,16))[..., 0]\n",
    "X_test_resized = tf.image.resize(X_test[..., np.newaxis], (16,16))[..., 0]\n",
    "\n",
    "# посмотрим что получилось\n",
    "fig, ax = plt.subplots(1,5, figsize=(15,10))\n",
    "for i in range(5):\n",
    "    ax[i].imshow(X_train_resized[i], cmap='gray')\n",
    "    ax[i].axis('off')"
   ]
  },
  {
   "cell_type": "markdown",
   "id": "a1e46937",
   "metadata": {},
   "source": [
    "### 2.3. Создадим архитектуру для этой задачи"
   ]
  },
  {
   "cell_type": "code",
   "execution_count": 87,
   "id": "a576b2cf",
   "metadata": {},
   "outputs": [
    {
     "name": "stdout",
     "output_type": "stream",
     "text": [
      "Model: \"sequential_12\"\n",
      "_________________________________________________________________\n",
      " Layer (type)                Output Shape              Param #   \n",
      "=================================================================\n",
      " flatten_1 (Flatten)         (None, 256)               0         \n",
      "                                                                 \n",
      " dense_35 (Dense)            (None, 256)               65792     \n",
      "                                                                 \n",
      " dense_36 (Dense)            (None, 2)                 514       \n",
      "                                                                 \n",
      "=================================================================\n",
      "Total params: 66,306\n",
      "Trainable params: 66,306\n",
      "Non-trainable params: 0\n",
      "_________________________________________________________________\n"
     ]
    }
   ],
   "source": [
    "from keras.layers import Flatten \n",
    "tf.random.set_seed(9)\n",
    "\n",
    "model = Sequential([\n",
    "                    Flatten(input_shape=(16,16)), # слой для преобразования входного изображения в одномерный вектор признаков\n",
    "                    Dense(256, activation='relu'), # полносвязный слой с количеством нейронов по количеству пикселей\n",
    "                    Dense(2, activation='sigmoid') # выходной слой с двумя нейронами которые с помощью сигмоиды будут выдавать вероятность принадледности к классам\n",
    "])\n",
    "model.summary()"
   ]
  },
  {
   "cell_type": "markdown",
   "id": "69e2a77d",
   "metadata": {},
   "source": [
    "### 2.4. Скомпилируем сеть"
   ]
  },
  {
   "cell_type": "markdown",
   "id": "1b1650a8",
   "metadata": {},
   "source": [
    "Подберём функцию потерь для классификации и метрику точности . Оптимизатор используем 'sgd'"
   ]
  },
  {
   "cell_type": "code",
   "execution_count": 90,
   "id": "d75fd7c6",
   "metadata": {},
   "outputs": [],
   "source": [
    "model.compile(optimizer='sgd', loss='binary_crossentropy', metrics='accuracy')"
   ]
  },
  {
   "cell_type": "markdown",
   "id": "796b1842",
   "metadata": {},
   "source": [
    "### 2.5. Обучим нейросеть"
   ]
  },
  {
   "cell_type": "code",
   "execution_count": 92,
   "id": "1eca5897",
   "metadata": {},
   "outputs": [
    {
     "name": "stdout",
     "output_type": "stream",
     "text": [
      "Epoch 1/10\n",
      "375/375 [==============================] - 1s 2ms/step - loss: 0.5139 - accuracy: 0.8456\n",
      "Epoch 2/10\n",
      "375/375 [==============================] - 1s 1ms/step - loss: 0.2833 - accuracy: 0.9236\n",
      "Epoch 3/10\n",
      "375/375 [==============================] - 0s 1ms/step - loss: 0.2064 - accuracy: 0.9383\n",
      "Epoch 4/10\n",
      "375/375 [==============================] - 0s 1ms/step - loss: 0.1731 - accuracy: 0.9463\n",
      "Epoch 5/10\n",
      "375/375 [==============================] - 0s 1ms/step - loss: 0.1544 - accuracy: 0.9503\n",
      "Epoch 6/10\n",
      "375/375 [==============================] - 0s 1ms/step - loss: 0.1430 - accuracy: 0.9534\n",
      "Epoch 7/10\n",
      "375/375 [==============================] - 0s 1ms/step - loss: 0.1348 - accuracy: 0.9562\n",
      "Epoch 8/10\n",
      "375/375 [==============================] - 0s 1ms/step - loss: 0.1288 - accuracy: 0.9586\n",
      "Epoch 9/10\n",
      "375/375 [==============================] - 0s 1ms/step - loss: 0.1240 - accuracy: 0.9599\n",
      "Epoch 10/10\n",
      "375/375 [==============================] - 0s 1ms/step - loss: 0.1202 - accuracy: 0.9613\n"
     ]
    },
    {
     "data": {
      "text/plain": [
       "<keras.callbacks.History at 0x20e966f35e0>"
      ]
     },
     "execution_count": 92,
     "metadata": {},
     "output_type": "execute_result"
    }
   ],
   "source": [
    "model.fit(X_train_resized, y_train_cat, epochs=10)"
   ]
  },
  {
   "cell_type": "markdown",
   "id": "bc384655",
   "metadata": {},
   "source": [
    "Сеть обучается - ошибка падает, метрика становится лучше."
   ]
  },
  {
   "cell_type": "markdown",
   "id": "93a5c45f",
   "metadata": {},
   "source": [
    "### 2.6. Сделаем предсказания на тестовых данных"
   ]
  },
  {
   "cell_type": "code",
   "execution_count": 93,
   "id": "5a1ddb5f",
   "metadata": {},
   "outputs": [
    {
     "name": "stdout",
     "output_type": "stream",
     "text": [
      "62/62 [==============================] - 0s 853us/step\n"
     ]
    }
   ],
   "source": [
    "pred = model.predict(X_test_resized)\n",
    "preds_cls = pred.argmax(axis=1)  # отбираем класс с наибольшей предсказанной вероятностью"
   ]
  },
  {
   "cell_type": "markdown",
   "id": "de4cf8ff",
   "metadata": {},
   "source": [
    "### 2.7. Посчитаем метрику качества на тестовых данных"
   ]
  },
  {
   "cell_type": "code",
   "execution_count": 96,
   "id": "6e98a08b",
   "metadata": {},
   "outputs": [
    {
     "name": "stdout",
     "output_type": "stream",
     "text": [
      "test acc: 96.82% (1921 out of 1984)\n"
     ]
    }
   ],
   "source": [
    "from sklearn.metrics import f1_score, accuracy_score\n",
    "\n",
    "f1_score(y_test, preds_cls)\n",
    "\n",
    "print(f'test acc: {accuracy_score(y_test, preds_cls)*100:.2f}% ({(y_test == preds_cls).sum()} out of {y_test.shape[0]})')"
   ]
  },
  {
   "cell_type": "markdown",
   "id": "a2554712",
   "metadata": {},
   "source": [
    "Вывод:  наша небольшая нейросеть способна не плохо классифицировать рукописные цифры даже на уменьшенных изображениях"
   ]
  },
  {
   "cell_type": "markdown",
   "id": "b8b577f1",
   "metadata": {},
   "source": [
    "## 3. Нейросеть для восстановления изображения"
   ]
  },
  {
   "cell_type": "markdown",
   "id": "09320196",
   "metadata": {},
   "source": [
    "Будем работать с набором данным `fetch_olivetti_faces` из `sklearn`."
   ]
  },
  {
   "cell_type": "code",
   "execution_count": 97,
   "id": "d7a49167",
   "metadata": {},
   "outputs": [
    {
     "name": "stdout",
     "output_type": "stream",
     "text": [
      "downloading Olivetti faces from https://ndownloader.figshare.com/files/5976027 to C:\\Users\\Karlashov\\scikit_learn_data\n"
     ]
    },
    {
     "data": {
      "text/plain": [
       "(320, 4096)"
      ]
     },
     "execution_count": 97,
     "metadata": {},
     "output_type": "execute_result"
    }
   ],
   "source": [
    "from sklearn.datasets import fetch_olivetti_faces\n",
    "from sklearn.model_selection import train_test_split\n",
    "\n",
    "data, _ = fetch_olivetti_faces(return_X_y=True)\n",
    "train, test = train_test_split(data, test_size=0.2, random_state=4)\n",
    "\n",
    "train.shape"
   ]
  },
  {
   "cell_type": "markdown",
   "id": "95e7861c",
   "metadata": {},
   "source": [
    "Сейчас изображение - это вектор 4096."
   ]
  },
  {
   "cell_type": "markdown",
   "id": "9fb18b88",
   "metadata": {},
   "source": [
    "### 3.1. Работа с данными"
   ]
  },
  {
   "cell_type": "markdown",
   "id": "456ad148",
   "metadata": {},
   "source": [
    "#### 3.1.1. Переведём векторы в настоящие изображения из двух размерностей"
   ]
  },
  {
   "cell_type": "code",
   "execution_count": 99,
   "id": "ff47fed0",
   "metadata": {},
   "outputs": [],
   "source": [
    "train = train.reshape((train.shape[0],64,64))\n",
    "test = test.reshape((test.shape[0],64,64))"
   ]
  },
  {
   "cell_type": "markdown",
   "id": "15b36fb1",
   "metadata": {},
   "source": [
    "#### 3.1.2. Выведем несколько примеров"
   ]
  },
  {
   "cell_type": "code",
   "execution_count": 100,
   "id": "50a6bb7d",
   "metadata": {},
   "outputs": [
    {
     "data": {
      "image/png": "[encoded data removed]",
      "text/plain": [
       "<Figure size 1080x720 with 5 Axes>"
      ]
     },
     "metadata": {
      "needs_background": "light"
     },
     "output_type": "display_data"
    }
   ],
   "source": [
    "import matplotlib.pyplot as plt\n",
    "fig, ax = plt.subplots(1,5,figsize=(15,10))\n",
    "for i in range(5):\n",
    "    ax[i].imshow(train[i], cmap='gray')\n",
    "    ax[i].axis('off')"
   ]
  },
  {
   "cell_type": "markdown",
   "id": "28efcc2e",
   "metadata": {},
   "source": [
    "Поделим данные на X и y, где X - это верхняя часть лица человека, на этом модель будет обучаться, а y - это нижняя часть лица человека - её будем предсказывать."
   ]
  },
  {
   "cell_type": "code",
   "execution_count": 101,
   "id": "2c6a893a",
   "metadata": {},
   "outputs": [
    {
     "data": {
      "text/plain": [
       "(320, 32, 64)"
      ]
     },
     "execution_count": 101,
     "metadata": {},
     "output_type": "execute_result"
    }
   ],
   "source": [
    "n_pixels = train.shape[1]\n",
    "\n",
    "# Upper half of the faces\n",
    "X_train = train[:, :(n_pixels + 1) // 2, :]\n",
    "# Lower half of the faces\n",
    "y_train = train[:, n_pixels // 2:, :]\n",
    "\n",
    "\n",
    "X_test = test[:, :(n_pixels + 1) // 2, :]\n",
    "y_test = test[:, n_pixels // 2:, :]\n",
    "\n",
    "X_train.shape"
   ]
  },
  {
   "cell_type": "markdown",
   "id": "d108e9ab",
   "metadata": {},
   "source": [
    "Вот один пример обучающей пары."
   ]
  },
  {
   "cell_type": "code",
   "execution_count": 102,
   "id": "5ee3ed10",
   "metadata": {},
   "outputs": [
    {
     "data": {
      "image/png": "[encoded data removed]",
      "text/plain": [
       "<Figure size 1080x576 with 2 Axes>"
      ]
     },
     "metadata": {
      "needs_background": "light"
     },
     "output_type": "display_data"
    }
   ],
   "source": [
    "idx = 0\n",
    "\n",
    "fig, ax = plt.subplots(1, 2, figsize=(15, 8))\n",
    "ax[0].imshow(X_train[idx], cmap='gray')\n",
    "ax[0].set_title('X')\n",
    "ax[1].imshow(y_train[idx], cmap='gray')\n",
    "ax[1].set_title('y')\n",
    "ax[0].axis('off')\n",
    "ax[1].axis('off')\n",
    "\n",
    "plt.show()"
   ]
  },
  {
   "cell_type": "markdown",
   "id": "40304166",
   "metadata": {},
   "source": [
    "#### 3.1.3. Изменим размерность y"
   ]
  },
  {
   "cell_type": "markdown",
   "id": "bc679119",
   "metadata": {},
   "source": [
    "Остается только изменить размерность y, т.к. сейчас $y$ - картинка 32x64, а выход нейронной сети у нас будет одномерный и равный 32 * 64 = 2048. "
   ]
  },
  {
   "cell_type": "code",
   "execution_count": 103,
   "id": "23a265e4",
   "metadata": {},
   "outputs": [],
   "source": [
    "y_train_n = y_train.reshape(y_train.shape[0], y_train.shape[1] * y_train.shape[2])\n",
    "y_test_n = y_test.reshape(y_test.shape[0], y_test.shape[1] * y_test.shape[2])"
   ]
  },
  {
   "cell_type": "markdown",
   "id": "31a98370",
   "metadata": {},
   "source": [
    "### 3.2. Создим архитектуру для этой задачи"
   ]
  },
  {
   "cell_type": "code",
   "execution_count": 104,
   "id": "bf5e80e2",
   "metadata": {},
   "outputs": [
    {
     "name": "stdout",
     "output_type": "stream",
     "text": [
      "Model: \"sequential_13\"\n",
      "_________________________________________________________________\n",
      " Layer (type)                Output Shape              Param #   \n",
      "=================================================================\n",
      " flatten_2 (Flatten)         (None, 2048)              0         \n",
      "                                                                 \n",
      " dense_37 (Dense)            (None, 1024)              2098176   \n",
      "                                                                 \n",
      " dense_38 (Dense)            (None, 1024)              1049600   \n",
      "                                                                 \n",
      " dense_39 (Dense)            (None, 2048)              2099200   \n",
      "                                                                 \n",
      "=================================================================\n",
      "Total params: 5,246,976\n",
      "Trainable params: 5,246,976\n",
      "Non-trainable params: 0\n",
      "_________________________________________________________________\n"
     ]
    }
   ],
   "source": [
    "from keras.models import Sequential\n",
    "from keras.layers import Flatten, Dense\n",
    "\n",
    "model = Sequential([\n",
    "                    Flatten(input_shape=(32,64)),\n",
    "                    Dense(units=1024, activation='relu'),\n",
    "                    Dense(units=1024, activation='relu'),\n",
    "                    Dense(32 * 64, activation='linear')\n",
    "])\n",
    "model.summary()"
   ]
  },
  {
   "cell_type": "markdown",
   "id": "709dda5e",
   "metadata": {},
   "source": [
    "### 3.3. Скомпилируем сеть"
   ]
  },
  {
   "cell_type": "markdown",
   "id": "7ae089cd",
   "metadata": {},
   "source": [
    "Подберём нужную функцию потерь и метрику. Оптимизатор используем 'adam'"
   ]
  },
  {
   "cell_type": "code",
   "execution_count": 107,
   "id": "d84834a6",
   "metadata": {},
   "outputs": [],
   "source": [
    "model.compile(optimizer='adam', loss='mse', metrics='mae')"
   ]
  },
  {
   "cell_type": "markdown",
   "id": "96ef8cee",
   "metadata": {},
   "source": [
    "### 3.4. Обучим нейросеть"
   ]
  },
  {
   "cell_type": "code",
   "execution_count": 108,
   "id": "44ce325c",
   "metadata": {},
   "outputs": [
    {
     "name": "stdout",
     "output_type": "stream",
     "text": [
      "Epoch 1/400\n",
      "10/10 [==============================] - 1s 25ms/step - loss: 0.1024 - mae: 0.2309\n",
      "Epoch 2/400\n",
      "10/10 [==============================] - 0s 24ms/step - loss: 0.0235 - mae: 0.1211\n",
      "Epoch 3/400\n",
      "10/10 [==============================] - 0s 25ms/step - loss: 0.0198 - mae: 0.1114\n",
      "Epoch 4/400\n",
      "10/10 [==============================] - 0s 26ms/step - loss: 0.0188 - mae: 0.1081\n",
      "Epoch 5/400\n",
      "10/10 [==============================] - 0s 26ms/step - loss: 0.0179 - mae: 0.1052\n",
      "Epoch 6/400\n",
      "10/10 [==============================] - 0s 26ms/step - loss: 0.0176 - mae: 0.1045\n",
      "Epoch 7/400\n",
      "10/10 [==============================] - 0s 26ms/step - loss: 0.0159 - mae: 0.0984\n",
      "Epoch 8/400\n",
      "10/10 [==============================] - 0s 27ms/step - loss: 0.0153 - mae: 0.0962\n",
      "Epoch 9/400\n",
      "10/10 [==============================] - 0s 26ms/step - loss: 0.0150 - mae: 0.0950\n",
      "Epoch 10/400\n",
      "10/10 [==============================] - 0s 26ms/step - loss: 0.0148 - mae: 0.0941\n",
      "Epoch 11/400\n",
      "10/10 [==============================] - 0s 26ms/step - loss: 0.0146 - mae: 0.0937\n",
      "Epoch 12/400\n",
      "10/10 [==============================] - 0s 26ms/step - loss: 0.0142 - mae: 0.0920\n",
      "Epoch 13/400\n",
      "10/10 [==============================] - 0s 27ms/step - loss: 0.0148 - mae: 0.0942\n",
      "Epoch 14/400\n",
      "10/10 [==============================] - 0s 27ms/step - loss: 0.0154 - mae: 0.0970\n",
      "Epoch 15/400\n",
      "10/10 [==============================] - 0s 26ms/step - loss: 0.0151 - mae: 0.0958\n",
      "Epoch 16/400\n",
      "10/10 [==============================] - 0s 26ms/step - loss: 0.0137 - mae: 0.0900\n",
      "Epoch 17/400\n",
      "10/10 [==============================] - 0s 26ms/step - loss: 0.0133 - mae: 0.0886\n",
      "Epoch 18/400\n",
      "10/10 [==============================] - 0s 26ms/step - loss: 0.0132 - mae: 0.0879\n",
      "Epoch 19/400\n",
      "10/10 [==============================] - 0s 27ms/step - loss: 0.0131 - mae: 0.0873\n",
      "Epoch 20/400\n",
      "10/10 [==============================] - 0s 27ms/step - loss: 0.0132 - mae: 0.0885\n",
      "Epoch 21/400\n",
      "10/10 [==============================] - 0s 26ms/step - loss: 0.0129 - mae: 0.0868\n",
      "Epoch 22/400\n",
      "10/10 [==============================] - 0s 26ms/step - loss: 0.0133 - mae: 0.0887\n",
      "Epoch 23/400\n",
      "10/10 [==============================] - 0s 26ms/step - loss: 0.0130 - mae: 0.0875\n",
      "Epoch 24/400\n",
      "10/10 [==============================] - 0s 26ms/step - loss: 0.0127 - mae: 0.0859\n",
      "Epoch 25/400\n",
      "10/10 [==============================] - 0s 26ms/step - loss: 0.0126 - mae: 0.0856\n",
      "Epoch 26/400\n",
      "10/10 [==============================] - 0s 26ms/step - loss: 0.0125 - mae: 0.0855\n",
      "Epoch 27/400\n",
      "10/10 [==============================] - 0s 26ms/step - loss: 0.0132 - mae: 0.0886\n",
      "Epoch 28/400\n",
      "10/10 [==============================] - 0s 26ms/step - loss: 0.0126 - mae: 0.0863\n",
      "Epoch 29/400\n",
      "10/10 [==============================] - 0s 26ms/step - loss: 0.0124 - mae: 0.0855\n",
      "Epoch 30/400\n",
      "10/10 [==============================] - 0s 26ms/step - loss: 0.0125 - mae: 0.0857\n",
      "Epoch 31/400\n",
      "10/10 [==============================] - 0s 28ms/step - loss: 0.0135 - mae: 0.0899\n",
      "Epoch 32/400\n",
      "10/10 [==============================] - 0s 26ms/step - loss: 0.0131 - mae: 0.0882\n",
      "Epoch 33/400\n",
      "10/10 [==============================] - 0s 26ms/step - loss: 0.0128 - mae: 0.0870\n",
      "Epoch 34/400\n",
      "10/10 [==============================] - 0s 26ms/step - loss: 0.0117 - mae: 0.0831\n",
      "Epoch 35/400\n",
      "10/10 [==============================] - 0s 26ms/step - loss: 0.0115 - mae: 0.0821\n",
      "Epoch 36/400\n",
      "10/10 [==============================] - 0s 26ms/step - loss: 0.0123 - mae: 0.0850\n",
      "Epoch 37/400\n",
      "10/10 [==============================] - 0s 25ms/step - loss: 0.0129 - mae: 0.0865\n",
      "Epoch 38/400\n",
      "10/10 [==============================] - 0s 25ms/step - loss: 0.0118 - mae: 0.0828\n",
      "Epoch 39/400\n",
      "10/10 [==============================] - 0s 26ms/step - loss: 0.0116 - mae: 0.0820\n",
      "Epoch 40/400\n",
      "10/10 [==============================] - 0s 25ms/step - loss: 0.0109 - mae: 0.0794\n",
      "Epoch 41/400\n",
      "10/10 [==============================] - 0s 26ms/step - loss: 0.0110 - mae: 0.0800\n",
      "Epoch 42/400\n",
      "10/10 [==============================] - 0s 26ms/step - loss: 0.0110 - mae: 0.0797\n",
      "Epoch 43/400\n",
      "10/10 [==============================] - 0s 26ms/step - loss: 0.0109 - mae: 0.0795\n",
      "Epoch 44/400\n",
      "10/10 [==============================] - 0s 26ms/step - loss: 0.0116 - mae: 0.0819\n",
      "Epoch 45/400\n",
      "10/10 [==============================] - 0s 26ms/step - loss: 0.0108 - mae: 0.0788\n",
      "Epoch 46/400\n",
      "10/10 [==============================] - 0s 25ms/step - loss: 0.0113 - mae: 0.0813\n",
      "Epoch 47/400\n",
      "10/10 [==============================] - 0s 26ms/step - loss: 0.0113 - mae: 0.0818\n",
      "Epoch 48/400\n",
      "10/10 [==============================] - 0s 25ms/step - loss: 0.0110 - mae: 0.0798\n",
      "Epoch 49/400\n",
      "10/10 [==============================] - 0s 25ms/step - loss: 0.0109 - mae: 0.0805\n",
      "Epoch 50/400\n",
      "10/10 [==============================] - 0s 25ms/step - loss: 0.0109 - mae: 0.0800\n",
      "Epoch 51/400\n",
      "10/10 [==============================] - 0s 25ms/step - loss: 0.0110 - mae: 0.0805\n",
      "Epoch 52/400\n",
      "10/10 [==============================] - 0s 25ms/step - loss: 0.0112 - mae: 0.0810\n",
      "Epoch 53/400\n",
      "10/10 [==============================] - 0s 25ms/step - loss: 0.0102 - mae: 0.0767\n",
      "Epoch 54/400\n",
      "10/10 [==============================] - 0s 26ms/step - loss: 0.0101 - mae: 0.0763\n",
      "Epoch 55/400\n",
      "10/10 [==============================] - 0s 26ms/step - loss: 0.0108 - mae: 0.0796\n",
      "Epoch 56/400\n",
      "10/10 [==============================] - 0s 26ms/step - loss: 0.0098 - mae: 0.0746\n",
      "Epoch 57/400\n",
      "10/10 [==============================] - 0s 26ms/step - loss: 0.0095 - mae: 0.0739\n",
      "Epoch 58/400\n",
      "10/10 [==============================] - 0s 27ms/step - loss: 0.0096 - mae: 0.0741\n",
      "Epoch 59/400\n",
      "10/10 [==============================] - 0s 26ms/step - loss: 0.0092 - mae: 0.0720\n",
      "Epoch 60/400\n",
      "10/10 [==============================] - 0s 26ms/step - loss: 0.0093 - mae: 0.0729\n",
      "Epoch 61/400\n",
      "10/10 [==============================] - 0s 26ms/step - loss: 0.0098 - mae: 0.0753\n",
      "Epoch 62/400\n",
      "10/10 [==============================] - 0s 26ms/step - loss: 0.0104 - mae: 0.0780\n",
      "Epoch 63/400\n",
      "10/10 [==============================] - 0s 25ms/step - loss: 0.0101 - mae: 0.0766\n",
      "Epoch 64/400\n",
      "10/10 [==============================] - 0s 26ms/step - loss: 0.0092 - mae: 0.0727\n",
      "Epoch 65/400\n",
      "10/10 [==============================] - 0s 27ms/step - loss: 0.0089 - mae: 0.0712\n",
      "Epoch 66/400\n",
      "10/10 [==============================] - 0s 25ms/step - loss: 0.0088 - mae: 0.0707\n",
      "Epoch 67/400\n",
      "10/10 [==============================] - 0s 26ms/step - loss: 0.0089 - mae: 0.0711\n",
      "Epoch 68/400\n",
      "10/10 [==============================] - 0s 26ms/step - loss: 0.0090 - mae: 0.0720\n",
      "Epoch 69/400\n",
      "10/10 [==============================] - 0s 27ms/step - loss: 0.0092 - mae: 0.0725\n",
      "Epoch 70/400\n",
      "10/10 [==============================] - 0s 26ms/step - loss: 0.0093 - mae: 0.0734\n",
      "Epoch 71/400\n",
      "10/10 [==============================] - 0s 26ms/step - loss: 0.0089 - mae: 0.0713\n",
      "Epoch 72/400\n",
      "10/10 [==============================] - 0s 26ms/step - loss: 0.0096 - mae: 0.0741\n",
      "Epoch 73/400\n",
      "10/10 [==============================] - 0s 26ms/step - loss: 0.0088 - mae: 0.0711\n",
      "Epoch 74/400\n",
      "10/10 [==============================] - 0s 26ms/step - loss: 0.0088 - mae: 0.0708\n",
      "Epoch 75/400\n",
      "10/10 [==============================] - 0s 25ms/step - loss: 0.0089 - mae: 0.0714\n",
      "Epoch 76/400\n",
      "10/10 [==============================] - 0s 25ms/step - loss: 0.0083 - mae: 0.0690\n",
      "Epoch 77/400\n",
      "10/10 [==============================] - 0s 26ms/step - loss: 0.0086 - mae: 0.0702\n",
      "Epoch 78/400\n",
      "10/10 [==============================] - 0s 26ms/step - loss: 0.0083 - mae: 0.0687\n",
      "Epoch 79/400\n",
      "10/10 [==============================] - 0s 26ms/step - loss: 0.0082 - mae: 0.0681\n",
      "Epoch 80/400\n",
      "10/10 [==============================] - 0s 26ms/step - loss: 0.0084 - mae: 0.0689\n",
      "Epoch 81/400\n",
      "10/10 [==============================] - 0s 26ms/step - loss: 0.0084 - mae: 0.0694\n",
      "Epoch 82/400\n",
      "10/10 [==============================] - 0s 25ms/step - loss: 0.0080 - mae: 0.0676\n",
      "Epoch 83/400\n",
      "10/10 [==============================] - 0s 25ms/step - loss: 0.0079 - mae: 0.0666\n",
      "Epoch 84/400\n",
      "10/10 [==============================] - 0s 26ms/step - loss: 0.0078 - mae: 0.0663\n",
      "Epoch 85/400\n",
      "10/10 [==============================] - 0s 25ms/step - loss: 0.0076 - mae: 0.0653\n",
      "Epoch 86/400\n",
      "10/10 [==============================] - 0s 24ms/step - loss: 0.0075 - mae: 0.0649\n",
      "Epoch 87/400\n",
      "10/10 [==============================] - 0s 24ms/step - loss: 0.0075 - mae: 0.0649\n",
      "Epoch 88/400\n",
      "10/10 [==============================] - 0s 25ms/step - loss: 0.0073 - mae: 0.0638\n",
      "Epoch 89/400\n",
      "10/10 [==============================] - 0s 26ms/step - loss: 0.0084 - mae: 0.0695\n",
      "Epoch 90/400\n",
      "10/10 [==============================] - 0s 26ms/step - loss: 0.0098 - mae: 0.0763\n",
      "Epoch 91/400\n",
      "10/10 [==============================] - 0s 25ms/step - loss: 0.0084 - mae: 0.0690\n",
      "Epoch 92/400\n",
      "10/10 [==============================] - 0s 26ms/step - loss: 0.0081 - mae: 0.0681\n",
      "Epoch 93/400\n",
      "10/10 [==============================] - 0s 26ms/step - loss: 0.0078 - mae: 0.0667\n",
      "Epoch 94/400\n",
      "10/10 [==============================] - 0s 25ms/step - loss: 0.0075 - mae: 0.0653\n",
      "Epoch 95/400\n",
      "10/10 [==============================] - 0s 25ms/step - loss: 0.0071 - mae: 0.0630\n",
      "Epoch 96/400\n",
      "10/10 [==============================] - 0s 26ms/step - loss: 0.0073 - mae: 0.0639\n",
      "Epoch 97/400\n",
      "10/10 [==============================] - 0s 26ms/step - loss: 0.0074 - mae: 0.0646\n",
      "Epoch 98/400\n",
      "10/10 [==============================] - 0s 25ms/step - loss: 0.0072 - mae: 0.0640\n",
      "Epoch 99/400\n",
      "10/10 [==============================] - 0s 25ms/step - loss: 0.0074 - mae: 0.0648\n",
      "Epoch 100/400\n",
      "10/10 [==============================] - 0s 25ms/step - loss: 0.0071 - mae: 0.0632\n",
      "Epoch 101/400\n",
      "10/10 [==============================] - 0s 25ms/step - loss: 0.0069 - mae: 0.0622\n",
      "Epoch 102/400\n",
      "10/10 [==============================] - 0s 25ms/step - loss: 0.0066 - mae: 0.0608\n",
      "Epoch 103/400\n",
      "10/10 [==============================] - 0s 25ms/step - loss: 0.0067 - mae: 0.0614\n",
      "Epoch 104/400\n",
      "10/10 [==============================] - 0s 25ms/step - loss: 0.0070 - mae: 0.0628\n",
      "Epoch 105/400\n",
      "10/10 [==============================] - 0s 26ms/step - loss: 0.0070 - mae: 0.0630\n",
      "Epoch 106/400\n",
      "10/10 [==============================] - 0s 26ms/step - loss: 0.0069 - mae: 0.0621\n",
      "Epoch 107/400\n",
      "10/10 [==============================] - 0s 25ms/step - loss: 0.0066 - mae: 0.0608\n",
      "Epoch 108/400\n",
      "10/10 [==============================] - 0s 28ms/step - loss: 0.0062 - mae: 0.0585\n",
      "Epoch 109/400\n",
      "10/10 [==============================] - 0s 26ms/step - loss: 0.0064 - mae: 0.0597\n",
      "Epoch 110/400\n",
      "10/10 [==============================] - 0s 26ms/step - loss: 0.0065 - mae: 0.0606\n",
      "Epoch 111/400\n",
      "10/10 [==============================] - 0s 25ms/step - loss: 0.0068 - mae: 0.0623\n",
      "Epoch 112/400\n",
      "10/10 [==============================] - 0s 26ms/step - loss: 0.0063 - mae: 0.0593\n",
      "Epoch 113/400\n",
      "10/10 [==============================] - 0s 25ms/step - loss: 0.0063 - mae: 0.0592\n",
      "Epoch 114/400\n",
      "10/10 [==============================] - 0s 25ms/step - loss: 0.0062 - mae: 0.0585\n",
      "Epoch 115/400\n",
      "10/10 [==============================] - 0s 26ms/step - loss: 0.0061 - mae: 0.0577\n",
      "Epoch 116/400\n",
      "10/10 [==============================] - 0s 26ms/step - loss: 0.0058 - mae: 0.0566\n",
      "Epoch 117/400\n",
      "10/10 [==============================] - 0s 26ms/step - loss: 0.0058 - mae: 0.0562\n",
      "Epoch 118/400\n",
      "10/10 [==============================] - 0s 25ms/step - loss: 0.0062 - mae: 0.0586\n",
      "Epoch 119/400\n",
      "10/10 [==============================] - 0s 26ms/step - loss: 0.0063 - mae: 0.0591\n",
      "Epoch 120/400\n",
      "10/10 [==============================] - 0s 26ms/step - loss: 0.0063 - mae: 0.0589\n",
      "Epoch 121/400\n",
      "10/10 [==============================] - 0s 26ms/step - loss: 0.0066 - mae: 0.0607\n",
      "Epoch 122/400\n",
      "10/10 [==============================] - 0s 25ms/step - loss: 0.0065 - mae: 0.0603\n",
      "Epoch 123/400\n",
      "10/10 [==============================] - 0s 25ms/step - loss: 0.0063 - mae: 0.0593\n",
      "Epoch 124/400\n",
      "10/10 [==============================] - 0s 25ms/step - loss: 0.0059 - mae: 0.0576\n",
      "Epoch 125/400\n",
      "10/10 [==============================] - 0s 26ms/step - loss: 0.0058 - mae: 0.0567\n",
      "Epoch 126/400\n",
      "10/10 [==============================] - 0s 26ms/step - loss: 0.0058 - mae: 0.0568\n",
      "Epoch 127/400\n",
      "10/10 [==============================] - 0s 25ms/step - loss: 0.0060 - mae: 0.0577\n",
      "Epoch 128/400\n",
      "10/10 [==============================] - 0s 26ms/step - loss: 0.0060 - mae: 0.0578\n",
      "Epoch 129/400\n",
      "10/10 [==============================] - 0s 26ms/step - loss: 0.0061 - mae: 0.0588\n",
      "Epoch 130/400\n",
      "10/10 [==============================] - 0s 26ms/step - loss: 0.0061 - mae: 0.0586\n",
      "Epoch 131/400\n",
      "10/10 [==============================] - 0s 26ms/step - loss: 0.0057 - mae: 0.0562\n",
      "Epoch 132/400\n",
      "10/10 [==============================] - 0s 26ms/step - loss: 0.0055 - mae: 0.0547\n",
      "Epoch 133/400\n",
      "10/10 [==============================] - 0s 26ms/step - loss: 0.0056 - mae: 0.0557\n",
      "Epoch 134/400\n",
      "10/10 [==============================] - 0s 28ms/step - loss: 0.0054 - mae: 0.0544\n",
      "Epoch 135/400\n",
      "10/10 [==============================] - 0s 26ms/step - loss: 0.0054 - mae: 0.0547\n",
      "Epoch 136/400\n",
      "10/10 [==============================] - 0s 25ms/step - loss: 0.0055 - mae: 0.0553\n",
      "Epoch 137/400\n",
      "10/10 [==============================] - 0s 25ms/step - loss: 0.0054 - mae: 0.0547\n",
      "Epoch 138/400\n",
      "10/10 [==============================] - 0s 25ms/step - loss: 0.0054 - mae: 0.0545\n",
      "Epoch 139/400\n",
      "10/10 [==============================] - 0s 25ms/step - loss: 0.0052 - mae: 0.0535\n",
      "Epoch 140/400\n",
      "10/10 [==============================] - 0s 25ms/step - loss: 0.0053 - mae: 0.0539\n",
      "Epoch 141/400\n",
      "10/10 [==============================] - 0s 26ms/step - loss: 0.0053 - mae: 0.0538\n",
      "Epoch 142/400\n",
      "10/10 [==============================] - 0s 25ms/step - loss: 0.0053 - mae: 0.0538\n",
      "Epoch 143/400\n",
      "10/10 [==============================] - 0s 26ms/step - loss: 0.0052 - mae: 0.0532\n",
      "Epoch 144/400\n",
      "10/10 [==============================] - 0s 25ms/step - loss: 0.0052 - mae: 0.0537\n",
      "Epoch 145/400\n",
      "10/10 [==============================] - 0s 24ms/step - loss: 0.0051 - mae: 0.0532\n",
      "Epoch 146/400\n",
      "10/10 [==============================] - 0s 24ms/step - loss: 0.0050 - mae: 0.0521\n",
      "Epoch 147/400\n",
      "10/10 [==============================] - 0s 26ms/step - loss: 0.0052 - mae: 0.0537\n",
      "Epoch 148/400\n",
      "10/10 [==============================] - 0s 26ms/step - loss: 0.0053 - mae: 0.0543\n",
      "Epoch 149/400\n",
      "10/10 [==============================] - 0s 26ms/step - loss: 0.0051 - mae: 0.0532\n",
      "Epoch 150/400\n",
      "10/10 [==============================] - 0s 26ms/step - loss: 0.0052 - mae: 0.0542\n",
      "Epoch 151/400\n",
      "10/10 [==============================] - 0s 25ms/step - loss: 0.0051 - mae: 0.0528\n",
      "Epoch 152/400\n",
      "10/10 [==============================] - 0s 26ms/step - loss: 0.0049 - mae: 0.0515\n",
      "Epoch 153/400\n",
      "10/10 [==============================] - 0s 26ms/step - loss: 0.0051 - mae: 0.0527\n",
      "Epoch 154/400\n",
      "10/10 [==============================] - 0s 25ms/step - loss: 0.0053 - mae: 0.0544\n",
      "Epoch 155/400\n",
      "10/10 [==============================] - 0s 26ms/step - loss: 0.0052 - mae: 0.0539\n",
      "Epoch 156/400\n",
      "10/10 [==============================] - 0s 25ms/step - loss: 0.0050 - mae: 0.0527\n",
      "Epoch 157/400\n",
      "10/10 [==============================] - 0s 25ms/step - loss: 0.0050 - mae: 0.0528\n",
      "Epoch 158/400\n",
      "10/10 [==============================] - 0s 26ms/step - loss: 0.0049 - mae: 0.0520\n",
      "Epoch 159/400\n",
      "10/10 [==============================] - 0s 26ms/step - loss: 0.0049 - mae: 0.0518\n",
      "Epoch 160/400\n",
      "10/10 [==============================] - 0s 25ms/step - loss: 0.0048 - mae: 0.0511\n",
      "Epoch 161/400\n",
      "10/10 [==============================] - 0s 25ms/step - loss: 0.0046 - mae: 0.0498\n",
      "Epoch 162/400\n",
      "10/10 [==============================] - 0s 26ms/step - loss: 0.0045 - mae: 0.0493\n",
      "Epoch 163/400\n",
      "10/10 [==============================] - 0s 26ms/step - loss: 0.0047 - mae: 0.0507\n",
      "Epoch 164/400\n",
      "10/10 [==============================] - 0s 26ms/step - loss: 0.0044 - mae: 0.0489\n",
      "Epoch 165/400\n",
      "10/10 [==============================] - 0s 26ms/step - loss: 0.0046 - mae: 0.0503\n",
      "Epoch 166/400\n",
      "10/10 [==============================] - 0s 26ms/step - loss: 0.0057 - mae: 0.0573\n",
      "Epoch 167/400\n",
      "10/10 [==============================] - 0s 26ms/step - loss: 0.0049 - mae: 0.0521\n",
      "Epoch 168/400\n",
      "10/10 [==============================] - 0s 27ms/step - loss: 0.0048 - mae: 0.0517\n",
      "Epoch 169/400\n",
      "10/10 [==============================] - 0s 26ms/step - loss: 0.0045 - mae: 0.0495\n",
      "Epoch 170/400\n"
     ]
    },
    {
     "name": "stdout",
     "output_type": "stream",
     "text": [
      "10/10 [==============================] - 0s 26ms/step - loss: 0.0043 - mae: 0.0483\n",
      "Epoch 171/400\n",
      "10/10 [==============================] - 0s 26ms/step - loss: 0.0043 - mae: 0.0481\n",
      "Epoch 172/400\n",
      "10/10 [==============================] - 0s 26ms/step - loss: 0.0042 - mae: 0.0479\n",
      "Epoch 173/400\n",
      "10/10 [==============================] - 0s 26ms/step - loss: 0.0043 - mae: 0.0487\n",
      "Epoch 174/400\n",
      "10/10 [==============================] - 0s 26ms/step - loss: 0.0045 - mae: 0.0499\n",
      "Epoch 175/400\n",
      "10/10 [==============================] - 0s 26ms/step - loss: 0.0047 - mae: 0.0507\n",
      "Epoch 176/400\n",
      "10/10 [==============================] - 0s 25ms/step - loss: 0.0048 - mae: 0.0515\n",
      "Epoch 177/400\n",
      "10/10 [==============================] - 0s 26ms/step - loss: 0.0046 - mae: 0.0502\n",
      "Epoch 178/400\n",
      "10/10 [==============================] - 0s 26ms/step - loss: 0.0044 - mae: 0.0490\n",
      "Epoch 179/400\n",
      "10/10 [==============================] - 0s 26ms/step - loss: 0.0043 - mae: 0.0489\n",
      "Epoch 180/400\n",
      "10/10 [==============================] - 0s 26ms/step - loss: 0.0041 - mae: 0.0471\n",
      "Epoch 181/400\n",
      "10/10 [==============================] - 0s 26ms/step - loss: 0.0041 - mae: 0.0468\n",
      "Epoch 182/400\n",
      "10/10 [==============================] - 0s 26ms/step - loss: 0.0041 - mae: 0.0470\n",
      "Epoch 183/400\n",
      "10/10 [==============================] - 0s 25ms/step - loss: 0.0044 - mae: 0.0490\n",
      "Epoch 184/400\n",
      "10/10 [==============================] - 0s 25ms/step - loss: 0.0042 - mae: 0.0477\n",
      "Epoch 185/400\n",
      "10/10 [==============================] - 0s 26ms/step - loss: 0.0044 - mae: 0.0496\n",
      "Epoch 186/400\n",
      "10/10 [==============================] - 0s 26ms/step - loss: 0.0045 - mae: 0.0504\n",
      "Epoch 187/400\n",
      "10/10 [==============================] - 0s 25ms/step - loss: 0.0041 - mae: 0.0474\n",
      "Epoch 188/400\n",
      "10/10 [==============================] - 0s 26ms/step - loss: 0.0040 - mae: 0.0466\n",
      "Epoch 189/400\n",
      "10/10 [==============================] - 0s 26ms/step - loss: 0.0040 - mae: 0.0464\n",
      "Epoch 190/400\n",
      "10/10 [==============================] - 0s 25ms/step - loss: 0.0038 - mae: 0.0453\n",
      "Epoch 191/400\n",
      "10/10 [==============================] - 0s 25ms/step - loss: 0.0040 - mae: 0.0464\n",
      "Epoch 192/400\n",
      "10/10 [==============================] - 0s 25ms/step - loss: 0.0041 - mae: 0.0476\n",
      "Epoch 193/400\n",
      "10/10 [==============================] - 0s 26ms/step - loss: 0.0040 - mae: 0.0464\n",
      "Epoch 194/400\n",
      "10/10 [==============================] - 0s 26ms/step - loss: 0.0037 - mae: 0.0445\n",
      "Epoch 195/400\n",
      "10/10 [==============================] - 0s 26ms/step - loss: 0.0039 - mae: 0.0464\n",
      "Epoch 196/400\n",
      "10/10 [==============================] - 0s 26ms/step - loss: 0.0038 - mae: 0.0453\n",
      "Epoch 197/400\n",
      "10/10 [==============================] - 0s 26ms/step - loss: 0.0039 - mae: 0.0461\n",
      "Epoch 198/400\n",
      "10/10 [==============================] - 0s 26ms/step - loss: 0.0041 - mae: 0.0472\n",
      "Epoch 199/400\n",
      "10/10 [==============================] - 0s 26ms/step - loss: 0.0040 - mae: 0.0466\n",
      "Epoch 200/400\n",
      "10/10 [==============================] - 0s 26ms/step - loss: 0.0039 - mae: 0.0458\n",
      "Epoch 201/400\n",
      "10/10 [==============================] - 0s 26ms/step - loss: 0.0038 - mae: 0.0455\n",
      "Epoch 202/400\n",
      "10/10 [==============================] - 0s 26ms/step - loss: 0.0036 - mae: 0.0441\n",
      "Epoch 203/400\n",
      "10/10 [==============================] - 0s 26ms/step - loss: 0.0037 - mae: 0.0448\n",
      "Epoch 204/400\n",
      "10/10 [==============================] - 0s 26ms/step - loss: 0.0040 - mae: 0.0470\n",
      "Epoch 205/400\n",
      "10/10 [==============================] - 0s 27ms/step - loss: 0.0046 - mae: 0.0509\n",
      "Epoch 206/400\n",
      "10/10 [==============================] - 0s 25ms/step - loss: 0.0043 - mae: 0.0488\n",
      "Epoch 207/400\n",
      "10/10 [==============================] - 0s 25ms/step - loss: 0.0040 - mae: 0.0467\n",
      "Epoch 208/400\n",
      "10/10 [==============================] - 0s 25ms/step - loss: 0.0038 - mae: 0.0456\n",
      "Epoch 209/400\n",
      "10/10 [==============================] - 0s 26ms/step - loss: 0.0037 - mae: 0.0449\n",
      "Epoch 210/400\n",
      "10/10 [==============================] - 0s 26ms/step - loss: 0.0036 - mae: 0.0442\n",
      "Epoch 211/400\n",
      "10/10 [==============================] - 0s 26ms/step - loss: 0.0037 - mae: 0.0450\n",
      "Epoch 212/400\n",
      "10/10 [==============================] - 0s 26ms/step - loss: 0.0036 - mae: 0.0443\n",
      "Epoch 213/400\n",
      "10/10 [==============================] - 0s 25ms/step - loss: 0.0035 - mae: 0.0431\n",
      "Epoch 214/400\n",
      "10/10 [==============================] - 0s 25ms/step - loss: 0.0034 - mae: 0.0425\n",
      "Epoch 215/400\n",
      "10/10 [==============================] - 0s 26ms/step - loss: 0.0034 - mae: 0.0430\n",
      "Epoch 216/400\n",
      "10/10 [==============================] - 0s 26ms/step - loss: 0.0034 - mae: 0.0426\n",
      "Epoch 217/400\n",
      "10/10 [==============================] - 0s 25ms/step - loss: 0.0034 - mae: 0.0428\n",
      "Epoch 218/400\n",
      "10/10 [==============================] - 0s 26ms/step - loss: 0.0032 - mae: 0.0413\n",
      "Epoch 219/400\n",
      "10/10 [==============================] - 0s 25ms/step - loss: 0.0034 - mae: 0.0428\n",
      "Epoch 220/400\n",
      "10/10 [==============================] - 0s 25ms/step - loss: 0.0033 - mae: 0.0424\n",
      "Epoch 221/400\n",
      "10/10 [==============================] - 0s 25ms/step - loss: 0.0033 - mae: 0.0425\n",
      "Epoch 222/400\n",
      "10/10 [==============================] - 0s 25ms/step - loss: 0.0033 - mae: 0.0423\n",
      "Epoch 223/400\n",
      "10/10 [==============================] - 0s 26ms/step - loss: 0.0034 - mae: 0.0434\n",
      "Epoch 224/400\n",
      "10/10 [==============================] - 0s 26ms/step - loss: 0.0034 - mae: 0.0432\n",
      "Epoch 225/400\n",
      "10/10 [==============================] - 0s 25ms/step - loss: 0.0033 - mae: 0.0425\n",
      "Epoch 226/400\n",
      "10/10 [==============================] - 0s 25ms/step - loss: 0.0031 - mae: 0.0407\n",
      "Epoch 227/400\n",
      "10/10 [==============================] - 0s 26ms/step - loss: 0.0031 - mae: 0.0409\n",
      "Epoch 228/400\n",
      "10/10 [==============================] - 0s 26ms/step - loss: 0.0032 - mae: 0.0411\n",
      "Epoch 229/400\n",
      "10/10 [==============================] - 0s 25ms/step - loss: 0.0032 - mae: 0.0414\n",
      "Epoch 230/400\n",
      "10/10 [==============================] - 0s 25ms/step - loss: 0.0031 - mae: 0.0408\n",
      "Epoch 231/400\n",
      "10/10 [==============================] - 0s 25ms/step - loss: 0.0030 - mae: 0.0400\n",
      "Epoch 232/400\n",
      "10/10 [==============================] - 0s 25ms/step - loss: 0.0030 - mae: 0.0402\n",
      "Epoch 233/400\n",
      "10/10 [==============================] - 0s 27ms/step - loss: 0.0034 - mae: 0.0431\n",
      "Epoch 234/400\n",
      "10/10 [==============================] - 0s 26ms/step - loss: 0.0031 - mae: 0.0408\n",
      "Epoch 235/400\n",
      "10/10 [==============================] - 0s 26ms/step - loss: 0.0031 - mae: 0.0405\n",
      "Epoch 236/400\n",
      "10/10 [==============================] - 0s 26ms/step - loss: 0.0030 - mae: 0.0404\n",
      "Epoch 237/400\n",
      "10/10 [==============================] - 0s 25ms/step - loss: 0.0030 - mae: 0.0398\n",
      "Epoch 238/400\n",
      "10/10 [==============================] - 0s 26ms/step - loss: 0.0030 - mae: 0.0403\n",
      "Epoch 239/400\n",
      "10/10 [==============================] - 0s 25ms/step - loss: 0.0031 - mae: 0.0410\n",
      "Epoch 240/400\n",
      "10/10 [==============================] - 0s 25ms/step - loss: 0.0030 - mae: 0.0398\n",
      "Epoch 241/400\n",
      "10/10 [==============================] - 0s 25ms/step - loss: 0.0029 - mae: 0.0395\n",
      "Epoch 242/400\n",
      "10/10 [==============================] - 0s 26ms/step - loss: 0.0029 - mae: 0.0396\n",
      "Epoch 243/400\n",
      "10/10 [==============================] - 0s 26ms/step - loss: 0.0029 - mae: 0.0391\n",
      "Epoch 244/400\n",
      "10/10 [==============================] - 0s 26ms/step - loss: 0.0030 - mae: 0.0402\n",
      "Epoch 245/400\n",
      "10/10 [==============================] - 0s 26ms/step - loss: 0.0030 - mae: 0.0403\n",
      "Epoch 246/400\n",
      "10/10 [==============================] - 0s 26ms/step - loss: 0.0029 - mae: 0.0390\n",
      "Epoch 247/400\n",
      "10/10 [==============================] - 0s 25ms/step - loss: 0.0030 - mae: 0.0403\n",
      "Epoch 248/400\n",
      "10/10 [==============================] - 0s 26ms/step - loss: 0.0031 - mae: 0.0415\n",
      "Epoch 249/400\n",
      "10/10 [==============================] - 0s 26ms/step - loss: 0.0030 - mae: 0.0402\n",
      "Epoch 250/400\n",
      "10/10 [==============================] - 0s 26ms/step - loss: 0.0030 - mae: 0.0399\n",
      "Epoch 251/400\n",
      "10/10 [==============================] - 0s 25ms/step - loss: 0.0029 - mae: 0.0391\n",
      "Epoch 252/400\n",
      "10/10 [==============================] - 0s 25ms/step - loss: 0.0028 - mae: 0.0383\n",
      "Epoch 253/400\n",
      "10/10 [==============================] - 0s 26ms/step - loss: 0.0027 - mae: 0.0378\n",
      "Epoch 254/400\n",
      "10/10 [==============================] - 0s 25ms/step - loss: 0.0027 - mae: 0.0379\n",
      "Epoch 255/400\n",
      "10/10 [==============================] - 0s 26ms/step - loss: 0.0028 - mae: 0.0389\n",
      "Epoch 256/400\n",
      "10/10 [==============================] - 0s 25ms/step - loss: 0.0033 - mae: 0.0430\n",
      "Epoch 257/400\n",
      "10/10 [==============================] - 0s 26ms/step - loss: 0.0036 - mae: 0.0451\n",
      "Epoch 258/400\n",
      "10/10 [==============================] - 0s 26ms/step - loss: 0.0031 - mae: 0.0413\n",
      "Epoch 259/400\n",
      "10/10 [==============================] - 0s 25ms/step - loss: 0.0027 - mae: 0.0383\n",
      "Epoch 260/400\n",
      "10/10 [==============================] - 0s 25ms/step - loss: 0.0027 - mae: 0.0379\n",
      "Epoch 261/400\n",
      "10/10 [==============================] - 0s 25ms/step - loss: 0.0026 - mae: 0.0374\n",
      "Epoch 262/400\n",
      "10/10 [==============================] - 0s 26ms/step - loss: 0.0026 - mae: 0.0371\n",
      "Epoch 263/400\n",
      "10/10 [==============================] - 0s 26ms/step - loss: 0.0026 - mae: 0.0372\n",
      "Epoch 264/400\n",
      "10/10 [==============================] - 0s 26ms/step - loss: 0.0029 - mae: 0.0397\n",
      "Epoch 265/400\n",
      "10/10 [==============================] - 0s 26ms/step - loss: 0.0027 - mae: 0.0382\n",
      "Epoch 266/400\n",
      "10/10 [==============================] - 0s 26ms/step - loss: 0.0029 - mae: 0.0396\n",
      "Epoch 267/400\n",
      "10/10 [==============================] - 0s 26ms/step - loss: 0.0027 - mae: 0.0383\n",
      "Epoch 268/400\n",
      "10/10 [==============================] - 0s 25ms/step - loss: 0.0030 - mae: 0.0409\n",
      "Epoch 269/400\n",
      "10/10 [==============================] - 0s 26ms/step - loss: 0.0029 - mae: 0.0401\n",
      "Epoch 270/400\n",
      "10/10 [==============================] - 0s 26ms/step - loss: 0.0029 - mae: 0.0400\n",
      "Epoch 271/400\n",
      "10/10 [==============================] - 0s 26ms/step - loss: 0.0026 - mae: 0.0376\n",
      "Epoch 272/400\n",
      "10/10 [==============================] - 0s 25ms/step - loss: 0.0026 - mae: 0.0372\n",
      "Epoch 273/400\n",
      "10/10 [==============================] - 0s 26ms/step - loss: 0.0025 - mae: 0.0367\n",
      "Epoch 274/400\n",
      "10/10 [==============================] - 0s 26ms/step - loss: 0.0025 - mae: 0.0363\n",
      "Epoch 275/400\n",
      "10/10 [==============================] - 0s 25ms/step - loss: 0.0025 - mae: 0.0362\n",
      "Epoch 276/400\n",
      "10/10 [==============================] - 0s 26ms/step - loss: 0.0025 - mae: 0.0367\n",
      "Epoch 277/400\n",
      "10/10 [==============================] - 0s 26ms/step - loss: 0.0026 - mae: 0.0370\n",
      "Epoch 278/400\n",
      "10/10 [==============================] - 0s 26ms/step - loss: 0.0025 - mae: 0.0361\n",
      "Epoch 279/400\n",
      "10/10 [==============================] - 0s 26ms/step - loss: 0.0024 - mae: 0.0359\n",
      "Epoch 280/400\n",
      "10/10 [==============================] - 0s 26ms/step - loss: 0.0024 - mae: 0.0354\n",
      "Epoch 281/400\n",
      "10/10 [==============================] - 0s 26ms/step - loss: 0.0023 - mae: 0.0348\n",
      "Epoch 282/400\n",
      "10/10 [==============================] - 0s 25ms/step - loss: 0.0025 - mae: 0.0365\n",
      "Epoch 283/400\n",
      "10/10 [==============================] - 0s 27ms/step - loss: 0.0025 - mae: 0.0366\n",
      "Epoch 284/400\n",
      "10/10 [==============================] - 0s 26ms/step - loss: 0.0028 - mae: 0.0394\n",
      "Epoch 285/400\n",
      "10/10 [==============================] - 0s 26ms/step - loss: 0.0029 - mae: 0.0403\n",
      "Epoch 286/400\n",
      "10/10 [==============================] - 0s 26ms/step - loss: 0.0028 - mae: 0.0394\n",
      "Epoch 287/400\n",
      "10/10 [==============================] - 0s 26ms/step - loss: 0.0036 - mae: 0.0462\n",
      "Epoch 288/400\n",
      "10/10 [==============================] - 0s 26ms/step - loss: 0.0036 - mae: 0.0450\n",
      "Epoch 289/400\n",
      "10/10 [==============================] - 0s 26ms/step - loss: 0.0030 - mae: 0.0406\n",
      "Epoch 290/400\n",
      "10/10 [==============================] - 0s 26ms/step - loss: 0.0029 - mae: 0.0401\n",
      "Epoch 291/400\n",
      "10/10 [==============================] - 0s 25ms/step - loss: 0.0032 - mae: 0.0424\n",
      "Epoch 292/400\n",
      "10/10 [==============================] - 0s 25ms/step - loss: 0.0028 - mae: 0.0395\n",
      "Epoch 293/400\n",
      "10/10 [==============================] - 0s 28ms/step - loss: 0.0027 - mae: 0.0389\n",
      "Epoch 294/400\n",
      "10/10 [==============================] - 0s 26ms/step - loss: 0.0028 - mae: 0.0394\n",
      "Epoch 295/400\n",
      "10/10 [==============================] - 0s 26ms/step - loss: 0.0024 - mae: 0.0364\n",
      "Epoch 296/400\n",
      "10/10 [==============================] - 0s 26ms/step - loss: 0.0024 - mae: 0.0354\n",
      "Epoch 297/400\n",
      "10/10 [==============================] - 0s 26ms/step - loss: 0.0024 - mae: 0.0359\n",
      "Epoch 298/400\n",
      "10/10 [==============================] - 0s 25ms/step - loss: 0.0022 - mae: 0.0342\n",
      "Epoch 299/400\n",
      "10/10 [==============================] - 0s 24ms/step - loss: 0.0021 - mae: 0.0334\n",
      "Epoch 300/400\n",
      "10/10 [==============================] - 0s 25ms/step - loss: 0.0022 - mae: 0.0339\n",
      "Epoch 301/400\n",
      "10/10 [==============================] - 0s 26ms/step - loss: 0.0022 - mae: 0.0338\n",
      "Epoch 302/400\n",
      "10/10 [==============================] - 0s 27ms/step - loss: 0.0021 - mae: 0.0335\n",
      "Epoch 303/400\n",
      "10/10 [==============================] - 0s 26ms/step - loss: 0.0023 - mae: 0.0348\n",
      "Epoch 304/400\n",
      "10/10 [==============================] - 0s 26ms/step - loss: 0.0022 - mae: 0.0344\n",
      "Epoch 305/400\n",
      "10/10 [==============================] - 0s 27ms/step - loss: 0.0022 - mae: 0.0339\n",
      "Epoch 306/400\n",
      "10/10 [==============================] - 0s 26ms/step - loss: 0.0022 - mae: 0.0343\n",
      "Epoch 307/400\n",
      "10/10 [==============================] - 0s 26ms/step - loss: 0.0021 - mae: 0.0336\n",
      "Epoch 308/400\n",
      "10/10 [==============================] - 0s 26ms/step - loss: 0.0021 - mae: 0.0334\n",
      "Epoch 309/400\n",
      "10/10 [==============================] - 0s 25ms/step - loss: 0.0021 - mae: 0.0335\n",
      "Epoch 310/400\n",
      "10/10 [==============================] - 0s 25ms/step - loss: 0.0022 - mae: 0.0341\n",
      "Epoch 311/400\n",
      "10/10 [==============================] - 0s 26ms/step - loss: 0.0022 - mae: 0.0340\n",
      "Epoch 312/400\n",
      "10/10 [==============================] - 0s 26ms/step - loss: 0.0022 - mae: 0.0343\n",
      "Epoch 313/400\n",
      "10/10 [==============================] - 0s 28ms/step - loss: 0.0021 - mae: 0.0333\n",
      "Epoch 314/400\n",
      "10/10 [==============================] - 0s 26ms/step - loss: 0.0020 - mae: 0.0327\n",
      "Epoch 315/400\n",
      "10/10 [==============================] - 0s 25ms/step - loss: 0.0020 - mae: 0.0326\n",
      "Epoch 316/400\n",
      "10/10 [==============================] - 0s 26ms/step - loss: 0.0021 - mae: 0.0330\n",
      "Epoch 317/400\n",
      "10/10 [==============================] - 0s 25ms/step - loss: 0.0021 - mae: 0.0333\n",
      "Epoch 318/400\n",
      "10/10 [==============================] - 0s 25ms/step - loss: 0.0021 - mae: 0.0338\n",
      "Epoch 319/400\n",
      "10/10 [==============================] - 0s 26ms/step - loss: 0.0023 - mae: 0.0356\n",
      "Epoch 320/400\n",
      "10/10 [==============================] - 0s 25ms/step - loss: 0.0024 - mae: 0.0362\n",
      "Epoch 321/400\n",
      "10/10 [==============================] - 0s 26ms/step - loss: 0.0022 - mae: 0.0345\n",
      "Epoch 322/400\n",
      "10/10 [==============================] - 0s 25ms/step - loss: 0.0022 - mae: 0.0343\n",
      "Epoch 323/400\n",
      "10/10 [==============================] - 0s 25ms/step - loss: 0.0021 - mae: 0.0339\n",
      "Epoch 324/400\n",
      "10/10 [==============================] - 0s 25ms/step - loss: 0.0021 - mae: 0.0338\n",
      "Epoch 325/400\n",
      "10/10 [==============================] - 0s 25ms/step - loss: 0.0021 - mae: 0.0332\n",
      "Epoch 326/400\n",
      "10/10 [==============================] - 0s 25ms/step - loss: 0.0022 - mae: 0.0348\n",
      "Epoch 327/400\n",
      "10/10 [==============================] - 0s 25ms/step - loss: 0.0023 - mae: 0.0358\n",
      "Epoch 328/400\n",
      "10/10 [==============================] - 0s 25ms/step - loss: 0.0027 - mae: 0.0388\n",
      "Epoch 329/400\n",
      "10/10 [==============================] - 0s 25ms/step - loss: 0.0024 - mae: 0.0365\n",
      "Epoch 330/400\n",
      "10/10 [==============================] - 0s 25ms/step - loss: 0.0023 - mae: 0.0360\n",
      "Epoch 331/400\n",
      "10/10 [==============================] - 0s 25ms/step - loss: 0.0022 - mae: 0.0346\n",
      "Epoch 332/400\n",
      "10/10 [==============================] - 0s 25ms/step - loss: 0.0021 - mae: 0.0335\n",
      "Epoch 333/400\n",
      "10/10 [==============================] - 0s 25ms/step - loss: 0.0021 - mae: 0.0336\n",
      "Epoch 334/400\n",
      "10/10 [==============================] - 0s 26ms/step - loss: 0.0020 - mae: 0.0328\n",
      "Epoch 335/400\n",
      "10/10 [==============================] - 0s 25ms/step - loss: 0.0021 - mae: 0.0335\n",
      "Epoch 336/400\n",
      "10/10 [==============================] - 0s 26ms/step - loss: 0.0021 - mae: 0.0338\n",
      "Epoch 337/400\n",
      "10/10 [==============================] - 0s 26ms/step - loss: 0.0022 - mae: 0.0350\n",
      "Epoch 338/400\n"
     ]
    },
    {
     "name": "stdout",
     "output_type": "stream",
     "text": [
      "10/10 [==============================] - 0s 25ms/step - loss: 0.0020 - mae: 0.0327\n",
      "Epoch 339/400\n",
      "10/10 [==============================] - 0s 25ms/step - loss: 0.0019 - mae: 0.0317\n",
      "Epoch 340/400\n",
      "10/10 [==============================] - 0s 27ms/step - loss: 0.0018 - mae: 0.0308\n",
      "Epoch 341/400\n",
      "10/10 [==============================] - 0s 25ms/step - loss: 0.0018 - mae: 0.0310\n",
      "Epoch 342/400\n",
      "10/10 [==============================] - 0s 26ms/step - loss: 0.0018 - mae: 0.0310\n",
      "Epoch 343/400\n",
      "10/10 [==============================] - 0s 26ms/step - loss: 0.0019 - mae: 0.0314\n",
      "Epoch 344/400\n",
      "10/10 [==============================] - 0s 26ms/step - loss: 0.0020 - mae: 0.0324\n",
      "Epoch 345/400\n",
      "10/10 [==============================] - 0s 26ms/step - loss: 0.0019 - mae: 0.0323\n",
      "Epoch 346/400\n",
      "10/10 [==============================] - 0s 26ms/step - loss: 0.0019 - mae: 0.0316\n",
      "Epoch 347/400\n",
      "10/10 [==============================] - 0s 26ms/step - loss: 0.0019 - mae: 0.0317\n",
      "Epoch 348/400\n",
      "10/10 [==============================] - 0s 25ms/step - loss: 0.0019 - mae: 0.0315\n",
      "Epoch 349/400\n",
      "10/10 [==============================] - 0s 26ms/step - loss: 0.0018 - mae: 0.0308\n",
      "Epoch 350/400\n",
      "10/10 [==============================] - 0s 25ms/step - loss: 0.0017 - mae: 0.0304\n",
      "Epoch 351/400\n",
      "10/10 [==============================] - 0s 26ms/step - loss: 0.0017 - mae: 0.0303\n",
      "Epoch 352/400\n",
      "10/10 [==============================] - 0s 25ms/step - loss: 0.0017 - mae: 0.0300\n",
      "Epoch 353/400\n",
      "10/10 [==============================] - 0s 25ms/step - loss: 0.0017 - mae: 0.0299\n",
      "Epoch 354/400\n",
      "10/10 [==============================] - 0s 26ms/step - loss: 0.0017 - mae: 0.0303\n",
      "Epoch 355/400\n",
      "10/10 [==============================] - 0s 27ms/step - loss: 0.0017 - mae: 0.0304\n",
      "Epoch 356/400\n",
      "10/10 [==============================] - 0s 28ms/step - loss: 0.0017 - mae: 0.0303\n",
      "Epoch 357/400\n",
      "10/10 [==============================] - 0s 25ms/step - loss: 0.0017 - mae: 0.0300\n",
      "Epoch 358/400\n",
      "10/10 [==============================] - 0s 26ms/step - loss: 0.0017 - mae: 0.0301\n",
      "Epoch 359/400\n",
      "10/10 [==============================] - 0s 26ms/step - loss: 0.0017 - mae: 0.0302\n",
      "Epoch 360/400\n",
      "10/10 [==============================] - 0s 26ms/step - loss: 0.0017 - mae: 0.0304\n",
      "Epoch 361/400\n",
      "10/10 [==============================] - 0s 25ms/step - loss: 0.0017 - mae: 0.0298\n",
      "Epoch 362/400\n",
      "10/10 [==============================] - 0s 25ms/step - loss: 0.0017 - mae: 0.0301\n",
      "Epoch 363/400\n",
      "10/10 [==============================] - 0s 25ms/step - loss: 0.0018 - mae: 0.0309\n",
      "Epoch 364/400\n",
      "10/10 [==============================] - 0s 25ms/step - loss: 0.0018 - mae: 0.0313\n",
      "Epoch 365/400\n",
      "10/10 [==============================] - 0s 25ms/step - loss: 0.0020 - mae: 0.0330\n",
      "Epoch 366/400\n",
      "10/10 [==============================] - 0s 25ms/step - loss: 0.0019 - mae: 0.0321\n",
      "Epoch 367/400\n",
      "10/10 [==============================] - 0s 26ms/step - loss: 0.0018 - mae: 0.0317\n",
      "Epoch 368/400\n",
      "10/10 [==============================] - 0s 26ms/step - loss: 0.0018 - mae: 0.0314\n",
      "Epoch 369/400\n",
      "10/10 [==============================] - 0s 26ms/step - loss: 0.0017 - mae: 0.0301\n",
      "Epoch 370/400\n",
      "10/10 [==============================] - 0s 26ms/step - loss: 0.0016 - mae: 0.0296\n",
      "Epoch 371/400\n",
      "10/10 [==============================] - 0s 26ms/step - loss: 0.0017 - mae: 0.0297\n",
      "Epoch 372/400\n",
      "10/10 [==============================] - 0s 26ms/step - loss: 0.0016 - mae: 0.0294\n",
      "Epoch 373/400\n",
      "10/10 [==============================] - 0s 26ms/step - loss: 0.0015 - mae: 0.0285\n",
      "Epoch 374/400\n",
      "10/10 [==============================] - 0s 25ms/step - loss: 0.0015 - mae: 0.0283\n",
      "Epoch 375/400\n",
      "10/10 [==============================] - 0s 25ms/step - loss: 0.0015 - mae: 0.0278\n",
      "Epoch 376/400\n",
      "10/10 [==============================] - 0s 25ms/step - loss: 0.0015 - mae: 0.0277\n",
      "Epoch 377/400\n",
      "10/10 [==============================] - 0s 25ms/step - loss: 0.0016 - mae: 0.0298\n",
      "Epoch 378/400\n",
      "10/10 [==============================] - 0s 25ms/step - loss: 0.0020 - mae: 0.0335\n",
      "Epoch 379/400\n",
      "10/10 [==============================] - 0s 25ms/step - loss: 0.0020 - mae: 0.0334\n",
      "Epoch 380/400\n",
      "10/10 [==============================] - 0s 26ms/step - loss: 0.0022 - mae: 0.0356\n",
      "Epoch 381/400\n",
      "10/10 [==============================] - 0s 26ms/step - loss: 0.0019 - mae: 0.0321\n",
      "Epoch 382/400\n",
      "10/10 [==============================] - 0s 26ms/step - loss: 0.0017 - mae: 0.0304\n",
      "Epoch 383/400\n",
      "10/10 [==============================] - 0s 26ms/step - loss: 0.0017 - mae: 0.0303\n",
      "Epoch 384/400\n",
      "10/10 [==============================] - 0s 25ms/step - loss: 0.0019 - mae: 0.0324\n",
      "Epoch 385/400\n",
      "10/10 [==============================] - 0s 25ms/step - loss: 0.0019 - mae: 0.0330\n",
      "Epoch 386/400\n",
      "10/10 [==============================] - 0s 25ms/step - loss: 0.0026 - mae: 0.0394\n",
      "Epoch 387/400\n",
      "10/10 [==============================] - 0s 26ms/step - loss: 0.0026 - mae: 0.0387\n",
      "Epoch 388/400\n",
      "10/10 [==============================] - 0s 25ms/step - loss: 0.0020 - mae: 0.0337\n",
      "Epoch 389/400\n",
      "10/10 [==============================] - 0s 25ms/step - loss: 0.0019 - mae: 0.0330\n",
      "Epoch 390/400\n",
      "10/10 [==============================] - 0s 25ms/step - loss: 0.0023 - mae: 0.0365\n",
      "Epoch 391/400\n",
      "10/10 [==============================] - 0s 25ms/step - loss: 0.0026 - mae: 0.0387\n",
      "Epoch 392/400\n",
      "10/10 [==============================] - 0s 25ms/step - loss: 0.0025 - mae: 0.0374\n",
      "Epoch 393/400\n",
      "10/10 [==============================] - 0s 25ms/step - loss: 0.0021 - mae: 0.0347\n",
      "Epoch 394/400\n",
      "10/10 [==============================] - 0s 25ms/step - loss: 0.0021 - mae: 0.0342\n",
      "Epoch 395/400\n",
      "10/10 [==============================] - 0s 25ms/step - loss: 0.0020 - mae: 0.0333\n",
      "Epoch 396/400\n",
      "10/10 [==============================] - 0s 25ms/step - loss: 0.0018 - mae: 0.0314\n",
      "Epoch 397/400\n",
      "10/10 [==============================] - 0s 25ms/step - loss: 0.0017 - mae: 0.0302\n",
      "Epoch 398/400\n",
      "10/10 [==============================] - 0s 26ms/step - loss: 0.0016 - mae: 0.0292\n",
      "Epoch 399/400\n",
      "10/10 [==============================] - 0s 25ms/step - loss: 0.0015 - mae: 0.0288\n",
      "Epoch 400/400\n",
      "10/10 [==============================] - 0s 25ms/step - loss: 0.0015 - mae: 0.0286\n"
     ]
    },
    {
     "data": {
      "text/plain": [
       "<keras.callbacks.History at 0x20e96c85c30>"
      ]
     },
     "execution_count": 108,
     "metadata": {},
     "output_type": "execute_result"
    }
   ],
   "source": [
    "model.fit(X_train, y_train_n, epochs=400)"
   ]
  },
  {
   "cell_type": "markdown",
   "id": "84534bec",
   "metadata": {},
   "source": [
    "### 3.5. Сделаем предсказания на тестовых данных"
   ]
  },
  {
   "cell_type": "code",
   "execution_count": 109,
   "id": "4fa2d262",
   "metadata": {},
   "outputs": [
    {
     "name": "stdout",
     "output_type": "stream",
     "text": [
      "3/3 [==============================] - 0s 6ms/step\n"
     ]
    },
    {
     "data": {
      "text/plain": [
       "array([[0.71541303, 0.7683622 , 0.78210783, ..., 0.12667082, 0.09284678,\n",
       "        0.10205373],\n",
       "       [0.4648984 , 0.50620145, 0.56721044, ..., 0.22696827, 0.22945875,\n",
       "        0.22779588],\n",
       "       [0.6508783 , 0.65585184, 0.7335694 , ..., 0.3462221 , 0.33622462,\n",
       "        0.34837502],\n",
       "       ...,\n",
       "       [0.44013312, 0.48298636, 0.6294375 , ..., 0.17261443, 0.14370935,\n",
       "        0.12958662],\n",
       "       [0.5299386 , 0.53236073, 0.5152912 , ..., 0.3048519 , 0.30605274,\n",
       "        0.35579598],\n",
       "       [0.3163444 , 0.335088  , 0.3841216 , ..., 0.29632074, 0.16786677,\n",
       "        0.13779338]], dtype=float32)"
      ]
     },
     "execution_count": 109,
     "metadata": {},
     "output_type": "execute_result"
    }
   ],
   "source": [
    "pred = model.predict(X_test)\n",
    "pred"
   ]
  },
  {
   "cell_type": "markdown",
   "id": "3916a97f",
   "metadata": {},
   "source": [
    "### 3.6. Посчитаем метрику качества на тестовых данных"
   ]
  },
  {
   "cell_type": "code",
   "execution_count": 110,
   "id": "5515df69",
   "metadata": {},
   "outputs": [
    {
     "data": {
      "text/plain": [
       "0.07021687"
      ]
     },
     "execution_count": 110,
     "metadata": {},
     "output_type": "execute_result"
    }
   ],
   "source": [
    "from sklearn.metrics import mean_absolute_error\n",
    "\n",
    "mean_absolute_error( pred,y_test_n)"
   ]
  },
  {
   "cell_type": "markdown",
   "id": "7c82b603",
   "metadata": {},
   "source": [
    "### 3.7. Вернем размерность предсказанных векторов в двумерное изображение"
   ]
  },
  {
   "cell_type": "code",
   "execution_count": 112,
   "id": "115c5f84",
   "metadata": {},
   "outputs": [
    {
     "data": {
      "text/plain": [
       "(80, 32, 64)"
      ]
     },
     "execution_count": 112,
     "metadata": {},
     "output_type": "execute_result"
    }
   ],
   "source": [
    "pred_test = pred.reshape(pred.shape[0],32,64)\n",
    "pred_test.shape"
   ]
  },
  {
   "cell_type": "markdown",
   "id": "df434c18",
   "metadata": {},
   "source": [
    "отрисуем все предсказания."
   ]
  },
  {
   "cell_type": "code",
   "execution_count": 113,
   "id": "a2d8320c",
   "metadata": {},
   "outputs": [
    {
     "data": {
      "image/png": "[encoded data removed]",
      "text/plain": [
       "<Figure size 432x1080 with 10 Axes>"
      ]
     },
     "metadata": {
      "needs_background": "light"
     },
     "output_type": "display_data"
    }
   ],
   "source": [
    "import numpy as np\n",
    "\n",
    "n_faces = 5\n",
    "n_cols = 2\n",
    "image_shape = (64, 64)\n",
    "plt.figure(figsize=(3 * n_cols, 3 * n_faces))\n",
    "\n",
    "\n",
    "for i in range(5):\n",
    "    true_face = np.vstack((X_test[i], y_test[i]))\n",
    "\n",
    "    if i:\n",
    "        sub = plt.subplot(n_faces, n_cols, i * n_cols + 1)\n",
    "    else:\n",
    "        sub = plt.subplot(n_faces, n_cols, i * n_cols + 1, title=\"true faces\")\n",
    "\n",
    "    sub.axis(\"off\")\n",
    "    sub.imshow(\n",
    "        true_face.reshape(image_shape), cmap=plt.cm.gray, interpolation=\"nearest\"\n",
    "    )\n",
    "\n",
    "    completed_face = np.vstack((X_test[i], pred_test[i]))\n",
    "\n",
    "    if i:\n",
    "        sub = plt.subplot(n_faces, n_cols, i * n_cols + 2)\n",
    "\n",
    "    else:\n",
    "        sub = plt.subplot(n_faces, n_cols, i * n_cols + 2)\n",
    "\n",
    "    sub.axis(\"off\")\n",
    "    sub.imshow(\n",
    "        completed_face.reshape(image_shape),\n",
    "        cmap=plt.cm.gray,\n",
    "        interpolation=\"nearest\",\n",
    "    )"
   ]
  },
  {
   "cell_type": "markdown",
   "id": "a2cc1dd7",
   "metadata": {},
   "source": [
    "С помощью нейросети попытались восстановить часть лица, это окнечнно баловсвто и выглядит часто крипово, но результат интересный - сетка смогла уловисть закономерность раположения тёмных пикселей в районе рта."
   ]
  }
 ],
 "metadata": {
  "kernelspec": {
   "display_name": "Python 3 (ipykernel)",
   "language": "python",
   "name": "python3"
  },
  "language_info": {
   "codemirror_mode": {
    "name": "ipython",
    "version": 3
   },
   "file_extension": ".py",
   "mimetype": "text/x-python",
   "name": "python",
   "nbconvert_exporter": "python",
   "pygments_lexer": "ipython3",
   "version": "3.10.0"
  }
 },
 "nbformat": 4,
 "nbformat_minor": 5
}
